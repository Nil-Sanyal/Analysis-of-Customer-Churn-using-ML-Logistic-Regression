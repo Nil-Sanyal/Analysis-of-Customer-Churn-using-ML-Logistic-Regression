{
 "cells": [
  {
   "cell_type": "markdown",
   "id": "d54ac6ba-f198-4a37-bc91-2e4f301dca3e",
   "metadata": {},
   "source": [
    "# Imprting the libraries"
   ]
  },
  {
   "cell_type": "code",
   "execution_count": 306,
   "id": "7e5e14c2-e5b7-422e-9021-6f2ce496cd2a",
   "metadata": {},
   "outputs": [],
   "source": [
    "import numpy as np \n",
    "import pandas as pd \n",
    "import matplotlib.pyplot as plt "
   ]
  },
  {
   "cell_type": "markdown",
   "id": "6b6f526a-7afb-414d-ad9e-a7c11f7206b5",
   "metadata": {},
   "source": [
    "# Importing the Data Set "
   ]
  },
  {
   "cell_type": "code",
   "execution_count": 309,
   "id": "cf018d23-6037-47b0-bb45-4963bec7d87a",
   "metadata": {},
   "outputs": [],
   "source": [
    "df = pd.read_csv(r'C:\\Users\\nsany\\Downloads\\Dataset for Task\\customer_churn.csv')"
   ]
  },
  {
   "cell_type": "code",
   "execution_count": 311,
   "id": "1fe87cf2-ae39-48aa-8626-88f490141e5c",
   "metadata": {},
   "outputs": [
    {
     "data": {
      "text/html": [
       "<div>\n",
       "<style scoped>\n",
       "    .dataframe tbody tr th:only-of-type {\n",
       "        vertical-align: middle;\n",
       "    }\n",
       "\n",
       "    .dataframe tbody tr th {\n",
       "        vertical-align: top;\n",
       "    }\n",
       "\n",
       "    .dataframe thead th {\n",
       "        text-align: right;\n",
       "    }\n",
       "</style>\n",
       "<table border=\"1\" class=\"dataframe\">\n",
       "  <thead>\n",
       "    <tr style=\"text-align: right;\">\n",
       "      <th></th>\n",
       "      <th>Names</th>\n",
       "      <th>Age</th>\n",
       "      <th>Total_Purchase</th>\n",
       "      <th>Account_Manager</th>\n",
       "      <th>Years</th>\n",
       "      <th>Num_Sites</th>\n",
       "      <th>Onboard_date</th>\n",
       "      <th>Location</th>\n",
       "      <th>Company</th>\n",
       "      <th>Churn</th>\n",
       "    </tr>\n",
       "  </thead>\n",
       "  <tbody>\n",
       "    <tr>\n",
       "      <th>0</th>\n",
       "      <td>Cameron Williams</td>\n",
       "      <td>42.0</td>\n",
       "      <td>11066.80</td>\n",
       "      <td>0</td>\n",
       "      <td>7.22</td>\n",
       "      <td>8.0</td>\n",
       "      <td>2013-08-30 07:00:40</td>\n",
       "      <td>10265 Elizabeth Mission Barkerburgh, AK 89518</td>\n",
       "      <td>Harvey LLC</td>\n",
       "      <td>1</td>\n",
       "    </tr>\n",
       "    <tr>\n",
       "      <th>1</th>\n",
       "      <td>Kevin Mueller</td>\n",
       "      <td>41.0</td>\n",
       "      <td>11916.22</td>\n",
       "      <td>0</td>\n",
       "      <td>6.50</td>\n",
       "      <td>11.0</td>\n",
       "      <td>2013-08-13 00:38:46</td>\n",
       "      <td>6157 Frank Gardens Suite 019 Carloshaven, RI 1...</td>\n",
       "      <td>Wilson PLC</td>\n",
       "      <td>1</td>\n",
       "    </tr>\n",
       "    <tr>\n",
       "      <th>2</th>\n",
       "      <td>Eric Lozano</td>\n",
       "      <td>38.0</td>\n",
       "      <td>12884.75</td>\n",
       "      <td>0</td>\n",
       "      <td>6.67</td>\n",
       "      <td>12.0</td>\n",
       "      <td>2016-06-29 06:20:07</td>\n",
       "      <td>1331 Keith Court Alyssahaven, DE 90114</td>\n",
       "      <td>Miller, Johnson and Wallace</td>\n",
       "      <td>1</td>\n",
       "    </tr>\n",
       "    <tr>\n",
       "      <th>3</th>\n",
       "      <td>Phillip White</td>\n",
       "      <td>42.0</td>\n",
       "      <td>8010.76</td>\n",
       "      <td>0</td>\n",
       "      <td>6.71</td>\n",
       "      <td>10.0</td>\n",
       "      <td>2014-04-22 12:43:12</td>\n",
       "      <td>13120 Daniel Mount Angelabury, WY 30645-4695</td>\n",
       "      <td>Smith Inc</td>\n",
       "      <td>1</td>\n",
       "    </tr>\n",
       "    <tr>\n",
       "      <th>4</th>\n",
       "      <td>Cynthia Norton</td>\n",
       "      <td>37.0</td>\n",
       "      <td>9191.58</td>\n",
       "      <td>0</td>\n",
       "      <td>5.56</td>\n",
       "      <td>9.0</td>\n",
       "      <td>2016-01-19 15:31:15</td>\n",
       "      <td>765 Tricia Row Karenshire, MH 71730</td>\n",
       "      <td>Love-Jones</td>\n",
       "      <td>1</td>\n",
       "    </tr>\n",
       "  </tbody>\n",
       "</table>\n",
       "</div>"
      ],
      "text/plain": [
       "              Names   Age  Total_Purchase  Account_Manager  Years  Num_Sites  \\\n",
       "0  Cameron Williams  42.0        11066.80                0   7.22        8.0   \n",
       "1     Kevin Mueller  41.0        11916.22                0   6.50       11.0   \n",
       "2       Eric Lozano  38.0        12884.75                0   6.67       12.0   \n",
       "3     Phillip White  42.0         8010.76                0   6.71       10.0   \n",
       "4    Cynthia Norton  37.0         9191.58                0   5.56        9.0   \n",
       "\n",
       "          Onboard_date                                           Location  \\\n",
       "0  2013-08-30 07:00:40      10265 Elizabeth Mission Barkerburgh, AK 89518   \n",
       "1  2013-08-13 00:38:46  6157 Frank Gardens Suite 019 Carloshaven, RI 1...   \n",
       "2  2016-06-29 06:20:07             1331 Keith Court Alyssahaven, DE 90114   \n",
       "3  2014-04-22 12:43:12       13120 Daniel Mount Angelabury, WY 30645-4695   \n",
       "4  2016-01-19 15:31:15                765 Tricia Row Karenshire, MH 71730   \n",
       "\n",
       "                       Company  Churn  \n",
       "0                   Harvey LLC      1  \n",
       "1                   Wilson PLC      1  \n",
       "2  Miller, Johnson and Wallace      1  \n",
       "3                    Smith Inc      1  \n",
       "4                   Love-Jones      1  "
      ]
     },
     "execution_count": 311,
     "metadata": {},
     "output_type": "execute_result"
    }
   ],
   "source": [
    "df.head()"
   ]
  },
  {
   "cell_type": "code",
   "execution_count": 313,
   "id": "bc634af4-490e-4847-8ba0-29f8155d0908",
   "metadata": {},
   "outputs": [
    {
     "name": "stdout",
     "output_type": "stream",
     "text": [
      "<class 'pandas.core.frame.DataFrame'>\n",
      "RangeIndex: 900 entries, 0 to 899\n",
      "Data columns (total 10 columns):\n",
      " #   Column           Non-Null Count  Dtype  \n",
      "---  ------           --------------  -----  \n",
      " 0   Names            900 non-null    object \n",
      " 1   Age              900 non-null    float64\n",
      " 2   Total_Purchase   900 non-null    float64\n",
      " 3   Account_Manager  900 non-null    int64  \n",
      " 4   Years            900 non-null    float64\n",
      " 5   Num_Sites        900 non-null    float64\n",
      " 6   Onboard_date     900 non-null    object \n",
      " 7   Location         900 non-null    object \n",
      " 8   Company          900 non-null    object \n",
      " 9   Churn            900 non-null    int64  \n",
      "dtypes: float64(4), int64(2), object(4)\n",
      "memory usage: 70.4+ KB\n"
     ]
    }
   ],
   "source": [
    "df.info()"
   ]
  },
  {
   "cell_type": "markdown",
   "id": "13c01f5c-a8b3-42b8-8daa-9ee6b0f8062f",
   "metadata": {},
   "source": [
    "# Data Cleansing"
   ]
  },
  {
   "cell_type": "markdown",
   "id": "46858138-e62a-42d1-a51b-cb2aaf8d1fb5",
   "metadata": {},
   "source": [
    "### Converting the Onboarding Date to date time "
   ]
  },
  {
   "cell_type": "code",
   "execution_count": 317,
   "id": "48f0cf44-a121-44b1-93a6-6072a275711e",
   "metadata": {},
   "outputs": [],
   "source": [
    "df.Onboard_date = pd.to_datetime(df.Onboard_date)"
   ]
  },
  {
   "cell_type": "code",
   "execution_count": 319,
   "id": "b9ed4078-77c3-4d14-9cc9-7eb9aea10af6",
   "metadata": {},
   "outputs": [
    {
     "name": "stdout",
     "output_type": "stream",
     "text": [
      "<class 'pandas.core.frame.DataFrame'>\n",
      "RangeIndex: 900 entries, 0 to 899\n",
      "Data columns (total 10 columns):\n",
      " #   Column           Non-Null Count  Dtype         \n",
      "---  ------           --------------  -----         \n",
      " 0   Names            900 non-null    object        \n",
      " 1   Age              900 non-null    float64       \n",
      " 2   Total_Purchase   900 non-null    float64       \n",
      " 3   Account_Manager  900 non-null    int64         \n",
      " 4   Years            900 non-null    float64       \n",
      " 5   Num_Sites        900 non-null    float64       \n",
      " 6   Onboard_date     900 non-null    datetime64[ns]\n",
      " 7   Location         900 non-null    object        \n",
      " 8   Company          900 non-null    object        \n",
      " 9   Churn            900 non-null    int64         \n",
      "dtypes: datetime64[ns](1), float64(4), int64(2), object(3)\n",
      "memory usage: 70.4+ KB\n"
     ]
    }
   ],
   "source": [
    "df.info()"
   ]
  },
  {
   "cell_type": "code",
   "execution_count": 321,
   "id": "1486b7b1-b95b-4b00-84e7-4654dce7ebc6",
   "metadata": {},
   "outputs": [
    {
     "data": {
      "text/html": [
       "<div>\n",
       "<style scoped>\n",
       "    .dataframe tbody tr th:only-of-type {\n",
       "        vertical-align: middle;\n",
       "    }\n",
       "\n",
       "    .dataframe tbody tr th {\n",
       "        vertical-align: top;\n",
       "    }\n",
       "\n",
       "    .dataframe thead th {\n",
       "        text-align: right;\n",
       "    }\n",
       "</style>\n",
       "<table border=\"1\" class=\"dataframe\">\n",
       "  <thead>\n",
       "    <tr style=\"text-align: right;\">\n",
       "      <th></th>\n",
       "      <th>Age</th>\n",
       "      <th>Total_Purchase</th>\n",
       "      <th>Account_Manager</th>\n",
       "      <th>Years</th>\n",
       "      <th>Num_Sites</th>\n",
       "      <th>Onboard_date</th>\n",
       "      <th>Location</th>\n",
       "      <th>Company</th>\n",
       "      <th>Churn</th>\n",
       "    </tr>\n",
       "  </thead>\n",
       "  <tbody>\n",
       "    <tr>\n",
       "      <th>0</th>\n",
       "      <td>42.0</td>\n",
       "      <td>11066.80</td>\n",
       "      <td>0</td>\n",
       "      <td>7.22</td>\n",
       "      <td>8.0</td>\n",
       "      <td>2013-08-30 07:00:40</td>\n",
       "      <td>10265 Elizabeth Mission Barkerburgh, AK 89518</td>\n",
       "      <td>Harvey LLC</td>\n",
       "      <td>1</td>\n",
       "    </tr>\n",
       "    <tr>\n",
       "      <th>1</th>\n",
       "      <td>41.0</td>\n",
       "      <td>11916.22</td>\n",
       "      <td>0</td>\n",
       "      <td>6.50</td>\n",
       "      <td>11.0</td>\n",
       "      <td>2013-08-13 00:38:46</td>\n",
       "      <td>6157 Frank Gardens Suite 019 Carloshaven, RI 1...</td>\n",
       "      <td>Wilson PLC</td>\n",
       "      <td>1</td>\n",
       "    </tr>\n",
       "    <tr>\n",
       "      <th>2</th>\n",
       "      <td>38.0</td>\n",
       "      <td>12884.75</td>\n",
       "      <td>0</td>\n",
       "      <td>6.67</td>\n",
       "      <td>12.0</td>\n",
       "      <td>2016-06-29 06:20:07</td>\n",
       "      <td>1331 Keith Court Alyssahaven, DE 90114</td>\n",
       "      <td>Miller, Johnson and Wallace</td>\n",
       "      <td>1</td>\n",
       "    </tr>\n",
       "    <tr>\n",
       "      <th>3</th>\n",
       "      <td>42.0</td>\n",
       "      <td>8010.76</td>\n",
       "      <td>0</td>\n",
       "      <td>6.71</td>\n",
       "      <td>10.0</td>\n",
       "      <td>2014-04-22 12:43:12</td>\n",
       "      <td>13120 Daniel Mount Angelabury, WY 30645-4695</td>\n",
       "      <td>Smith Inc</td>\n",
       "      <td>1</td>\n",
       "    </tr>\n",
       "    <tr>\n",
       "      <th>4</th>\n",
       "      <td>37.0</td>\n",
       "      <td>9191.58</td>\n",
       "      <td>0</td>\n",
       "      <td>5.56</td>\n",
       "      <td>9.0</td>\n",
       "      <td>2016-01-19 15:31:15</td>\n",
       "      <td>765 Tricia Row Karenshire, MH 71730</td>\n",
       "      <td>Love-Jones</td>\n",
       "      <td>1</td>\n",
       "    </tr>\n",
       "  </tbody>\n",
       "</table>\n",
       "</div>"
      ],
      "text/plain": [
       "    Age  Total_Purchase  Account_Manager  Years  Num_Sites  \\\n",
       "0  42.0        11066.80                0   7.22        8.0   \n",
       "1  41.0        11916.22                0   6.50       11.0   \n",
       "2  38.0        12884.75                0   6.67       12.0   \n",
       "3  42.0         8010.76                0   6.71       10.0   \n",
       "4  37.0         9191.58                0   5.56        9.0   \n",
       "\n",
       "         Onboard_date                                           Location  \\\n",
       "0 2013-08-30 07:00:40      10265 Elizabeth Mission Barkerburgh, AK 89518   \n",
       "1 2013-08-13 00:38:46  6157 Frank Gardens Suite 019 Carloshaven, RI 1...   \n",
       "2 2016-06-29 06:20:07             1331 Keith Court Alyssahaven, DE 90114   \n",
       "3 2014-04-22 12:43:12       13120 Daniel Mount Angelabury, WY 30645-4695   \n",
       "4 2016-01-19 15:31:15                765 Tricia Row Karenshire, MH 71730   \n",
       "\n",
       "                       Company  Churn  \n",
       "0                   Harvey LLC      1  \n",
       "1                   Wilson PLC      1  \n",
       "2  Miller, Johnson and Wallace      1  \n",
       "3                    Smith Inc      1  \n",
       "4                   Love-Jones      1  "
      ]
     },
     "execution_count": 321,
     "metadata": {},
     "output_type": "execute_result"
    }
   ],
   "source": [
    "# Dropping off the name in the Dataset \n",
    "df.drop('Names', axis=1, inplace=True)\n",
    "df.head()"
   ]
  },
  {
   "cell_type": "code",
   "execution_count": 323,
   "id": "3ac949f5-8e0a-4942-b27c-989517f32b0a",
   "metadata": {},
   "outputs": [
    {
     "data": {
      "text/plain": [
       "Location\n",
       "10265 Elizabeth Mission Barkerburgh, AK 89518            1\n",
       "4331 Quinn Fords Suite 546 Traceyfort, CO 47194-7606     1\n",
       "69666 Christian Forges Lake Noah, IL 14397               1\n",
       "715 Ellis Squares New Kathleenland, NY 05913             1\n",
       "3004 Nash Freeway North Craigville, CT 24488             1\n",
       "                                                        ..\n",
       "3785 Duran Lodge Port Nicholashaven, MH 08892-1815       1\n",
       "663 White Tunnel Suite 995 Port Joseph, PR 93959-2444    1\n",
       "10676 Ferguson Ranch Suite 380 Lake Parker, OH 23498     1\n",
       "95222 Lisa Turnpike South Laurenburgh, NC 33273-8443     1\n",
       "27252 Olivia Burgs Rivasmouth, MN 80121-6348             1\n",
       "Name: count, Length: 900, dtype: int64"
      ]
     },
     "execution_count": 323,
     "metadata": {},
     "output_type": "execute_result"
    }
   ],
   "source": [
    "df.Location.value_counts()"
   ]
  },
  {
   "cell_type": "code",
   "execution_count": 325,
   "id": "7fffc4eb-8781-4d15-b90c-f97e6d652621",
   "metadata": {},
   "outputs": [
    {
     "data": {
      "text/html": [
       "<div>\n",
       "<style scoped>\n",
       "    .dataframe tbody tr th:only-of-type {\n",
       "        vertical-align: middle;\n",
       "    }\n",
       "\n",
       "    .dataframe tbody tr th {\n",
       "        vertical-align: top;\n",
       "    }\n",
       "\n",
       "    .dataframe thead th {\n",
       "        text-align: right;\n",
       "    }\n",
       "</style>\n",
       "<table border=\"1\" class=\"dataframe\">\n",
       "  <thead>\n",
       "    <tr style=\"text-align: right;\">\n",
       "      <th></th>\n",
       "      <th>Age</th>\n",
       "      <th>Total_Purchase</th>\n",
       "      <th>Account_Manager</th>\n",
       "      <th>Years</th>\n",
       "      <th>Num_Sites</th>\n",
       "      <th>Onboard_date</th>\n",
       "      <th>Location</th>\n",
       "      <th>Company</th>\n",
       "      <th>Churn</th>\n",
       "    </tr>\n",
       "  </thead>\n",
       "  <tbody>\n",
       "    <tr>\n",
       "      <th>0</th>\n",
       "      <td>42.0</td>\n",
       "      <td>11066.80</td>\n",
       "      <td>0</td>\n",
       "      <td>7.22</td>\n",
       "      <td>8.0</td>\n",
       "      <td>2013-08-30 07:00:40</td>\n",
       "      <td>10265 Elizabeth Mission Barkerburgh, AK 89518</td>\n",
       "      <td>Harvey LLC</td>\n",
       "      <td>1</td>\n",
       "    </tr>\n",
       "    <tr>\n",
       "      <th>1</th>\n",
       "      <td>41.0</td>\n",
       "      <td>11916.22</td>\n",
       "      <td>0</td>\n",
       "      <td>6.50</td>\n",
       "      <td>11.0</td>\n",
       "      <td>2013-08-13 00:38:46</td>\n",
       "      <td>6157 Frank Gardens Suite 019 Carloshaven, RI 1...</td>\n",
       "      <td>Wilson PLC</td>\n",
       "      <td>1</td>\n",
       "    </tr>\n",
       "    <tr>\n",
       "      <th>2</th>\n",
       "      <td>38.0</td>\n",
       "      <td>12884.75</td>\n",
       "      <td>0</td>\n",
       "      <td>6.67</td>\n",
       "      <td>12.0</td>\n",
       "      <td>2016-06-29 06:20:07</td>\n",
       "      <td>1331 Keith Court Alyssahaven, DE 90114</td>\n",
       "      <td>Miller, Johnson and Wallace</td>\n",
       "      <td>1</td>\n",
       "    </tr>\n",
       "    <tr>\n",
       "      <th>3</th>\n",
       "      <td>42.0</td>\n",
       "      <td>8010.76</td>\n",
       "      <td>0</td>\n",
       "      <td>6.71</td>\n",
       "      <td>10.0</td>\n",
       "      <td>2014-04-22 12:43:12</td>\n",
       "      <td>13120 Daniel Mount Angelabury, WY 30645-4695</td>\n",
       "      <td>Smith Inc</td>\n",
       "      <td>1</td>\n",
       "    </tr>\n",
       "    <tr>\n",
       "      <th>4</th>\n",
       "      <td>37.0</td>\n",
       "      <td>9191.58</td>\n",
       "      <td>0</td>\n",
       "      <td>5.56</td>\n",
       "      <td>9.0</td>\n",
       "      <td>2016-01-19 15:31:15</td>\n",
       "      <td>765 Tricia Row Karenshire, MH 71730</td>\n",
       "      <td>Love-Jones</td>\n",
       "      <td>1</td>\n",
       "    </tr>\n",
       "  </tbody>\n",
       "</table>\n",
       "</div>"
      ],
      "text/plain": [
       "    Age  Total_Purchase  Account_Manager  Years  Num_Sites  \\\n",
       "0  42.0        11066.80                0   7.22        8.0   \n",
       "1  41.0        11916.22                0   6.50       11.0   \n",
       "2  38.0        12884.75                0   6.67       12.0   \n",
       "3  42.0         8010.76                0   6.71       10.0   \n",
       "4  37.0         9191.58                0   5.56        9.0   \n",
       "\n",
       "         Onboard_date                                           Location  \\\n",
       "0 2013-08-30 07:00:40      10265 Elizabeth Mission Barkerburgh, AK 89518   \n",
       "1 2013-08-13 00:38:46  6157 Frank Gardens Suite 019 Carloshaven, RI 1...   \n",
       "2 2016-06-29 06:20:07             1331 Keith Court Alyssahaven, DE 90114   \n",
       "3 2014-04-22 12:43:12       13120 Daniel Mount Angelabury, WY 30645-4695   \n",
       "4 2016-01-19 15:31:15                765 Tricia Row Karenshire, MH 71730   \n",
       "\n",
       "                       Company  Churn  \n",
       "0                   Harvey LLC      1  \n",
       "1                   Wilson PLC      1  \n",
       "2  Miller, Johnson and Wallace      1  \n",
       "3                    Smith Inc      1  \n",
       "4                   Love-Jones      1  "
      ]
     },
     "execution_count": 325,
     "metadata": {},
     "output_type": "execute_result"
    }
   ],
   "source": [
    "df.head()"
   ]
  },
  {
   "cell_type": "code",
   "execution_count": 327,
   "id": "7cf1f8e7-7d0a-4f5a-b8fd-7f1de14a0774",
   "metadata": {},
   "outputs": [],
   "source": [
    "states = df.Location.str.split(',', n=1, expand=True)"
   ]
  },
  {
   "cell_type": "code",
   "execution_count": 329,
   "id": "a1656905-ec0a-4ebe-b0cd-1f55d940edd9",
   "metadata": {},
   "outputs": [
    {
     "data": {
      "text/html": [
       "<div>\n",
       "<style scoped>\n",
       "    .dataframe tbody tr th:only-of-type {\n",
       "        vertical-align: middle;\n",
       "    }\n",
       "\n",
       "    .dataframe tbody tr th {\n",
       "        vertical-align: top;\n",
       "    }\n",
       "\n",
       "    .dataframe thead th {\n",
       "        text-align: right;\n",
       "    }\n",
       "</style>\n",
       "<table border=\"1\" class=\"dataframe\">\n",
       "  <thead>\n",
       "    <tr style=\"text-align: right;\">\n",
       "      <th></th>\n",
       "      <th>0</th>\n",
       "      <th>1</th>\n",
       "    </tr>\n",
       "  </thead>\n",
       "  <tbody>\n",
       "    <tr>\n",
       "      <th>0</th>\n",
       "      <td>10265 Elizabeth Mission Barkerburgh</td>\n",
       "      <td>AK 89518</td>\n",
       "    </tr>\n",
       "    <tr>\n",
       "      <th>1</th>\n",
       "      <td>6157 Frank Gardens Suite 019 Carloshaven</td>\n",
       "      <td>RI 17756</td>\n",
       "    </tr>\n",
       "    <tr>\n",
       "      <th>2</th>\n",
       "      <td>1331 Keith Court Alyssahaven</td>\n",
       "      <td>DE 90114</td>\n",
       "    </tr>\n",
       "    <tr>\n",
       "      <th>3</th>\n",
       "      <td>13120 Daniel Mount Angelabury</td>\n",
       "      <td>WY 30645-4695</td>\n",
       "    </tr>\n",
       "    <tr>\n",
       "      <th>4</th>\n",
       "      <td>765 Tricia Row Karenshire</td>\n",
       "      <td>MH 71730</td>\n",
       "    </tr>\n",
       "    <tr>\n",
       "      <th>...</th>\n",
       "      <td>...</td>\n",
       "      <td>...</td>\n",
       "    </tr>\n",
       "    <tr>\n",
       "      <th>895</th>\n",
       "      <td>9316 Julian Fort Suite 328 North Leslie</td>\n",
       "      <td>ME 43961</td>\n",
       "    </tr>\n",
       "    <tr>\n",
       "      <th>896</th>\n",
       "      <td>8419 William Square Apt. 695 Martinville</td>\n",
       "      <td>RI 34133</td>\n",
       "    </tr>\n",
       "    <tr>\n",
       "      <th>897</th>\n",
       "      <td>Unit 8633 Box 8738 DPO AA 14126-5026</td>\n",
       "      <td>None</td>\n",
       "    </tr>\n",
       "    <tr>\n",
       "      <th>898</th>\n",
       "      <td>49800 Torres Ways Suite 886 West Bradleybury</td>\n",
       "      <td>LA 05945-2648</td>\n",
       "    </tr>\n",
       "    <tr>\n",
       "      <th>899</th>\n",
       "      <td>27252 Olivia Burgs Rivasmouth</td>\n",
       "      <td>MN 80121-6348</td>\n",
       "    </tr>\n",
       "  </tbody>\n",
       "</table>\n",
       "<p>900 rows × 2 columns</p>\n",
       "</div>"
      ],
      "text/plain": [
       "                                                0               1\n",
       "0             10265 Elizabeth Mission Barkerburgh        AK 89518\n",
       "1        6157 Frank Gardens Suite 019 Carloshaven        RI 17756\n",
       "2                    1331 Keith Court Alyssahaven        DE 90114\n",
       "3                   13120 Daniel Mount Angelabury   WY 30645-4695\n",
       "4                       765 Tricia Row Karenshire        MH 71730\n",
       "..                                            ...             ...\n",
       "895       9316 Julian Fort Suite 328 North Leslie        ME 43961\n",
       "896      8419 William Square Apt. 695 Martinville        RI 34133\n",
       "897          Unit 8633 Box 8738 DPO AA 14126-5026            None\n",
       "898  49800 Torres Ways Suite 886 West Bradleybury   LA 05945-2648\n",
       "899                 27252 Olivia Burgs Rivasmouth   MN 80121-6348\n",
       "\n",
       "[900 rows x 2 columns]"
      ]
     },
     "execution_count": 329,
     "metadata": {},
     "output_type": "execute_result"
    }
   ],
   "source": [
    "states"
   ]
  },
  {
   "cell_type": "code",
   "execution_count": 331,
   "id": "cafc18e4-53f1-428f-a72e-b4a34526fab6",
   "metadata": {},
   "outputs": [],
   "source": [
    "states = states[1].str.split(expand=True)"
   ]
  },
  {
   "cell_type": "code",
   "execution_count": 333,
   "id": "d36b2312-e3fd-4c16-bc3a-0fe000feb20e",
   "metadata": {},
   "outputs": [
    {
     "data": {
      "text/html": [
       "<div>\n",
       "<style scoped>\n",
       "    .dataframe tbody tr th:only-of-type {\n",
       "        vertical-align: middle;\n",
       "    }\n",
       "\n",
       "    .dataframe tbody tr th {\n",
       "        vertical-align: top;\n",
       "    }\n",
       "\n",
       "    .dataframe thead th {\n",
       "        text-align: right;\n",
       "    }\n",
       "</style>\n",
       "<table border=\"1\" class=\"dataframe\">\n",
       "  <thead>\n",
       "    <tr style=\"text-align: right;\">\n",
       "      <th></th>\n",
       "      <th>0</th>\n",
       "      <th>1</th>\n",
       "      <th>2</th>\n",
       "      <th>3</th>\n",
       "      <th>4</th>\n",
       "    </tr>\n",
       "  </thead>\n",
       "  <tbody>\n",
       "    <tr>\n",
       "      <th>0</th>\n",
       "      <td>AK</td>\n",
       "      <td>89518</td>\n",
       "      <td>None</td>\n",
       "      <td>None</td>\n",
       "      <td>None</td>\n",
       "    </tr>\n",
       "    <tr>\n",
       "      <th>1</th>\n",
       "      <td>RI</td>\n",
       "      <td>17756</td>\n",
       "      <td>None</td>\n",
       "      <td>None</td>\n",
       "      <td>None</td>\n",
       "    </tr>\n",
       "    <tr>\n",
       "      <th>2</th>\n",
       "      <td>DE</td>\n",
       "      <td>90114</td>\n",
       "      <td>None</td>\n",
       "      <td>None</td>\n",
       "      <td>None</td>\n",
       "    </tr>\n",
       "    <tr>\n",
       "      <th>3</th>\n",
       "      <td>WY</td>\n",
       "      <td>30645-4695</td>\n",
       "      <td>None</td>\n",
       "      <td>None</td>\n",
       "      <td>None</td>\n",
       "    </tr>\n",
       "    <tr>\n",
       "      <th>4</th>\n",
       "      <td>MH</td>\n",
       "      <td>71730</td>\n",
       "      <td>None</td>\n",
       "      <td>None</td>\n",
       "      <td>None</td>\n",
       "    </tr>\n",
       "    <tr>\n",
       "      <th>...</th>\n",
       "      <td>...</td>\n",
       "      <td>...</td>\n",
       "      <td>...</td>\n",
       "      <td>...</td>\n",
       "      <td>...</td>\n",
       "    </tr>\n",
       "    <tr>\n",
       "      <th>895</th>\n",
       "      <td>ME</td>\n",
       "      <td>43961</td>\n",
       "      <td>None</td>\n",
       "      <td>None</td>\n",
       "      <td>None</td>\n",
       "    </tr>\n",
       "    <tr>\n",
       "      <th>896</th>\n",
       "      <td>RI</td>\n",
       "      <td>34133</td>\n",
       "      <td>None</td>\n",
       "      <td>None</td>\n",
       "      <td>None</td>\n",
       "    </tr>\n",
       "    <tr>\n",
       "      <th>897</th>\n",
       "      <td>None</td>\n",
       "      <td>None</td>\n",
       "      <td>None</td>\n",
       "      <td>None</td>\n",
       "      <td>None</td>\n",
       "    </tr>\n",
       "    <tr>\n",
       "      <th>898</th>\n",
       "      <td>LA</td>\n",
       "      <td>05945-2648</td>\n",
       "      <td>None</td>\n",
       "      <td>None</td>\n",
       "      <td>None</td>\n",
       "    </tr>\n",
       "    <tr>\n",
       "      <th>899</th>\n",
       "      <td>MN</td>\n",
       "      <td>80121-6348</td>\n",
       "      <td>None</td>\n",
       "      <td>None</td>\n",
       "      <td>None</td>\n",
       "    </tr>\n",
       "  </tbody>\n",
       "</table>\n",
       "<p>900 rows × 5 columns</p>\n",
       "</div>"
      ],
      "text/plain": [
       "        0           1     2     3     4\n",
       "0      AK       89518  None  None  None\n",
       "1      RI       17756  None  None  None\n",
       "2      DE       90114  None  None  None\n",
       "3      WY  30645-4695  None  None  None\n",
       "4      MH       71730  None  None  None\n",
       "..    ...         ...   ...   ...   ...\n",
       "895    ME       43961  None  None  None\n",
       "896    RI       34133  None  None  None\n",
       "897  None        None  None  None  None\n",
       "898    LA  05945-2648  None  None  None\n",
       "899    MN  80121-6348  None  None  None\n",
       "\n",
       "[900 rows x 5 columns]"
      ]
     },
     "execution_count": 333,
     "metadata": {},
     "output_type": "execute_result"
    }
   ],
   "source": [
    "states"
   ]
  },
  {
   "cell_type": "code",
   "execution_count": 335,
   "id": "ef7dc6d5-4e04-4c14-a0cd-21982289ab9e",
   "metadata": {},
   "outputs": [
    {
     "data": {
      "text/plain": [
       "0        AK\n",
       "1        RI\n",
       "2        DE\n",
       "3        WY\n",
       "4        MH\n",
       "       ... \n",
       "895      ME\n",
       "896      RI\n",
       "897    None\n",
       "898      LA\n",
       "899      MN\n",
       "Name: 0, Length: 900, dtype: object"
      ]
     },
     "execution_count": 335,
     "metadata": {},
     "output_type": "execute_result"
    }
   ],
   "source": [
    "states[0]"
   ]
  },
  {
   "cell_type": "code",
   "execution_count": 337,
   "id": "8a634bd4-287f-4290-b61c-06a49ffbd547",
   "metadata": {},
   "outputs": [],
   "source": [
    "df[\"Postal_Code\"] = states[1]"
   ]
  },
  {
   "cell_type": "code",
   "execution_count": 339,
   "id": "9e0ac4d4-f1dd-4cbb-93bc-b004af84cbdd",
   "metadata": {},
   "outputs": [],
   "source": [
    "df[\"State\"] = states[0]"
   ]
  },
  {
   "cell_type": "code",
   "execution_count": 341,
   "id": "5ff72adb-17f5-4d16-976f-129a83ecf868",
   "metadata": {},
   "outputs": [
    {
     "data": {
      "text/html": [
       "<div>\n",
       "<style scoped>\n",
       "    .dataframe tbody tr th:only-of-type {\n",
       "        vertical-align: middle;\n",
       "    }\n",
       "\n",
       "    .dataframe tbody tr th {\n",
       "        vertical-align: top;\n",
       "    }\n",
       "\n",
       "    .dataframe thead th {\n",
       "        text-align: right;\n",
       "    }\n",
       "</style>\n",
       "<table border=\"1\" class=\"dataframe\">\n",
       "  <thead>\n",
       "    <tr style=\"text-align: right;\">\n",
       "      <th></th>\n",
       "      <th>Age</th>\n",
       "      <th>Total_Purchase</th>\n",
       "      <th>Account_Manager</th>\n",
       "      <th>Years</th>\n",
       "      <th>Num_Sites</th>\n",
       "      <th>Onboard_date</th>\n",
       "      <th>Location</th>\n",
       "      <th>Company</th>\n",
       "      <th>Churn</th>\n",
       "      <th>Postal_Code</th>\n",
       "      <th>State</th>\n",
       "    </tr>\n",
       "  </thead>\n",
       "  <tbody>\n",
       "    <tr>\n",
       "      <th>0</th>\n",
       "      <td>42.0</td>\n",
       "      <td>11066.80</td>\n",
       "      <td>0</td>\n",
       "      <td>7.22</td>\n",
       "      <td>8.0</td>\n",
       "      <td>2013-08-30 07:00:40</td>\n",
       "      <td>10265 Elizabeth Mission Barkerburgh, AK 89518</td>\n",
       "      <td>Harvey LLC</td>\n",
       "      <td>1</td>\n",
       "      <td>89518</td>\n",
       "      <td>AK</td>\n",
       "    </tr>\n",
       "    <tr>\n",
       "      <th>1</th>\n",
       "      <td>41.0</td>\n",
       "      <td>11916.22</td>\n",
       "      <td>0</td>\n",
       "      <td>6.50</td>\n",
       "      <td>11.0</td>\n",
       "      <td>2013-08-13 00:38:46</td>\n",
       "      <td>6157 Frank Gardens Suite 019 Carloshaven, RI 1...</td>\n",
       "      <td>Wilson PLC</td>\n",
       "      <td>1</td>\n",
       "      <td>17756</td>\n",
       "      <td>RI</td>\n",
       "    </tr>\n",
       "    <tr>\n",
       "      <th>2</th>\n",
       "      <td>38.0</td>\n",
       "      <td>12884.75</td>\n",
       "      <td>0</td>\n",
       "      <td>6.67</td>\n",
       "      <td>12.0</td>\n",
       "      <td>2016-06-29 06:20:07</td>\n",
       "      <td>1331 Keith Court Alyssahaven, DE 90114</td>\n",
       "      <td>Miller, Johnson and Wallace</td>\n",
       "      <td>1</td>\n",
       "      <td>90114</td>\n",
       "      <td>DE</td>\n",
       "    </tr>\n",
       "    <tr>\n",
       "      <th>3</th>\n",
       "      <td>42.0</td>\n",
       "      <td>8010.76</td>\n",
       "      <td>0</td>\n",
       "      <td>6.71</td>\n",
       "      <td>10.0</td>\n",
       "      <td>2014-04-22 12:43:12</td>\n",
       "      <td>13120 Daniel Mount Angelabury, WY 30645-4695</td>\n",
       "      <td>Smith Inc</td>\n",
       "      <td>1</td>\n",
       "      <td>30645-4695</td>\n",
       "      <td>WY</td>\n",
       "    </tr>\n",
       "    <tr>\n",
       "      <th>4</th>\n",
       "      <td>37.0</td>\n",
       "      <td>9191.58</td>\n",
       "      <td>0</td>\n",
       "      <td>5.56</td>\n",
       "      <td>9.0</td>\n",
       "      <td>2016-01-19 15:31:15</td>\n",
       "      <td>765 Tricia Row Karenshire, MH 71730</td>\n",
       "      <td>Love-Jones</td>\n",
       "      <td>1</td>\n",
       "      <td>71730</td>\n",
       "      <td>MH</td>\n",
       "    </tr>\n",
       "  </tbody>\n",
       "</table>\n",
       "</div>"
      ],
      "text/plain": [
       "    Age  Total_Purchase  Account_Manager  Years  Num_Sites  \\\n",
       "0  42.0        11066.80                0   7.22        8.0   \n",
       "1  41.0        11916.22                0   6.50       11.0   \n",
       "2  38.0        12884.75                0   6.67       12.0   \n",
       "3  42.0         8010.76                0   6.71       10.0   \n",
       "4  37.0         9191.58                0   5.56        9.0   \n",
       "\n",
       "         Onboard_date                                           Location  \\\n",
       "0 2013-08-30 07:00:40      10265 Elizabeth Mission Barkerburgh, AK 89518   \n",
       "1 2013-08-13 00:38:46  6157 Frank Gardens Suite 019 Carloshaven, RI 1...   \n",
       "2 2016-06-29 06:20:07             1331 Keith Court Alyssahaven, DE 90114   \n",
       "3 2014-04-22 12:43:12       13120 Daniel Mount Angelabury, WY 30645-4695   \n",
       "4 2016-01-19 15:31:15                765 Tricia Row Karenshire, MH 71730   \n",
       "\n",
       "                       Company  Churn Postal_Code State  \n",
       "0                   Harvey LLC      1       89518    AK  \n",
       "1                   Wilson PLC      1       17756    RI  \n",
       "2  Miller, Johnson and Wallace      1       90114    DE  \n",
       "3                    Smith Inc      1  30645-4695    WY  \n",
       "4                   Love-Jones      1       71730    MH  "
      ]
     },
     "execution_count": 341,
     "metadata": {},
     "output_type": "execute_result"
    }
   ],
   "source": [
    "df.head()"
   ]
  },
  {
   "cell_type": "code",
   "execution_count": 349,
   "id": "e6bae3cd-a813-4abe-a575-9fb6638b1bb5",
   "metadata": {},
   "outputs": [
    {
     "data": {
      "text/html": [
       "<div>\n",
       "<style scoped>\n",
       "    .dataframe tbody tr th:only-of-type {\n",
       "        vertical-align: middle;\n",
       "    }\n",
       "\n",
       "    .dataframe tbody tr th {\n",
       "        vertical-align: top;\n",
       "    }\n",
       "\n",
       "    .dataframe thead th {\n",
       "        text-align: right;\n",
       "    }\n",
       "</style>\n",
       "<table border=\"1\" class=\"dataframe\">\n",
       "  <thead>\n",
       "    <tr style=\"text-align: right;\">\n",
       "      <th></th>\n",
       "      <th>Age</th>\n",
       "      <th>Total_Purchase</th>\n",
       "      <th>Account_Manager</th>\n",
       "      <th>Years</th>\n",
       "      <th>Num_Sites</th>\n",
       "      <th>Onboard_date</th>\n",
       "      <th>Location</th>\n",
       "      <th>Company</th>\n",
       "      <th>Churn</th>\n",
       "      <th>Postal_Code</th>\n",
       "      <th>State</th>\n",
       "    </tr>\n",
       "  </thead>\n",
       "  <tbody>\n",
       "    <tr>\n",
       "      <th>0</th>\n",
       "      <td>42.0</td>\n",
       "      <td>11066.80</td>\n",
       "      <td>0</td>\n",
       "      <td>7.22</td>\n",
       "      <td>8.0</td>\n",
       "      <td>2013-08-30 07:00:40</td>\n",
       "      <td>10265 Elizabeth Mission Barkerburgh, AK 89518</td>\n",
       "      <td>Harvey LLC</td>\n",
       "      <td>1</td>\n",
       "      <td>89518</td>\n",
       "      <td>AK</td>\n",
       "    </tr>\n",
       "    <tr>\n",
       "      <th>1</th>\n",
       "      <td>41.0</td>\n",
       "      <td>11916.22</td>\n",
       "      <td>0</td>\n",
       "      <td>6.50</td>\n",
       "      <td>11.0</td>\n",
       "      <td>2013-08-13 00:38:46</td>\n",
       "      <td>6157 Frank Gardens Suite 019 Carloshaven, RI 1...</td>\n",
       "      <td>Wilson PLC</td>\n",
       "      <td>1</td>\n",
       "      <td>17756</td>\n",
       "      <td>RI</td>\n",
       "    </tr>\n",
       "    <tr>\n",
       "      <th>2</th>\n",
       "      <td>38.0</td>\n",
       "      <td>12884.75</td>\n",
       "      <td>0</td>\n",
       "      <td>6.67</td>\n",
       "      <td>12.0</td>\n",
       "      <td>2016-06-29 06:20:07</td>\n",
       "      <td>1331 Keith Court Alyssahaven, DE 90114</td>\n",
       "      <td>Miller, Johnson and Wallace</td>\n",
       "      <td>1</td>\n",
       "      <td>90114</td>\n",
       "      <td>DE</td>\n",
       "    </tr>\n",
       "    <tr>\n",
       "      <th>3</th>\n",
       "      <td>42.0</td>\n",
       "      <td>8010.76</td>\n",
       "      <td>0</td>\n",
       "      <td>6.71</td>\n",
       "      <td>10.0</td>\n",
       "      <td>2014-04-22 12:43:12</td>\n",
       "      <td>13120 Daniel Mount Angelabury, WY 30645-4695</td>\n",
       "      <td>Smith Inc</td>\n",
       "      <td>1</td>\n",
       "      <td>30645-4695</td>\n",
       "      <td>WY</td>\n",
       "    </tr>\n",
       "    <tr>\n",
       "      <th>4</th>\n",
       "      <td>37.0</td>\n",
       "      <td>9191.58</td>\n",
       "      <td>0</td>\n",
       "      <td>5.56</td>\n",
       "      <td>9.0</td>\n",
       "      <td>2016-01-19 15:31:15</td>\n",
       "      <td>765 Tricia Row Karenshire, MH 71730</td>\n",
       "      <td>Love-Jones</td>\n",
       "      <td>1</td>\n",
       "      <td>71730</td>\n",
       "      <td>MH</td>\n",
       "    </tr>\n",
       "  </tbody>\n",
       "</table>\n",
       "</div>"
      ],
      "text/plain": [
       "    Age  Total_Purchase  Account_Manager  Years  Num_Sites  \\\n",
       "0  42.0        11066.80                0   7.22        8.0   \n",
       "1  41.0        11916.22                0   6.50       11.0   \n",
       "2  38.0        12884.75                0   6.67       12.0   \n",
       "3  42.0         8010.76                0   6.71       10.0   \n",
       "4  37.0         9191.58                0   5.56        9.0   \n",
       "\n",
       "         Onboard_date                                           Location  \\\n",
       "0 2013-08-30 07:00:40      10265 Elizabeth Mission Barkerburgh, AK 89518   \n",
       "1 2013-08-13 00:38:46  6157 Frank Gardens Suite 019 Carloshaven, RI 1...   \n",
       "2 2016-06-29 06:20:07             1331 Keith Court Alyssahaven, DE 90114   \n",
       "3 2014-04-22 12:43:12       13120 Daniel Mount Angelabury, WY 30645-4695   \n",
       "4 2016-01-19 15:31:15                765 Tricia Row Karenshire, MH 71730   \n",
       "\n",
       "                       Company  Churn Postal_Code State  \n",
       "0                   Harvey LLC      1       89518    AK  \n",
       "1                   Wilson PLC      1       17756    RI  \n",
       "2  Miller, Johnson and Wallace      1       90114    DE  \n",
       "3                    Smith Inc      1  30645-4695    WY  \n",
       "4                   Love-Jones      1       71730    MH  "
      ]
     },
     "execution_count": 349,
     "metadata": {},
     "output_type": "execute_result"
    }
   ],
   "source": [
    "df.head()"
   ]
  },
  {
   "cell_type": "markdown",
   "id": "b9b26f33-a807-4961-aadd-838491ded68a",
   "metadata": {},
   "source": [
    "### Checkign for NUll values"
   ]
  },
  {
   "cell_type": "code",
   "execution_count": 351,
   "id": "23ebff5a-5e4c-4755-9550-23035407e9ab",
   "metadata": {},
   "outputs": [
    {
     "data": {
      "text/plain": [
       "Age                 0\n",
       "Total_Purchase      0\n",
       "Account_Manager     0\n",
       "Years               0\n",
       "Num_Sites           0\n",
       "Onboard_date        0\n",
       "Location            0\n",
       "Company             0\n",
       "Churn               0\n",
       "Postal_Code        74\n",
       "State              74\n",
       "dtype: int64"
      ]
     },
     "execution_count": 351,
     "metadata": {},
     "output_type": "execute_result"
    }
   ],
   "source": [
    "df.isnull().sum()"
   ]
  },
  {
   "cell_type": "code",
   "execution_count": 353,
   "id": "bf3aa01c-424c-4d43-bfd6-934ea4970e64",
   "metadata": {},
   "outputs": [],
   "source": [
    "#dropping Null values from Postal_Code and State \n",
    "df = df.dropna()"
   ]
  },
  {
   "cell_type": "code",
   "execution_count": 355,
   "id": "e5541a80-3e98-4753-b58a-3a094964257c",
   "metadata": {},
   "outputs": [
    {
     "data": {
      "text/plain": [
       "Age                0\n",
       "Total_Purchase     0\n",
       "Account_Manager    0\n",
       "Years              0\n",
       "Num_Sites          0\n",
       "Onboard_date       0\n",
       "Location           0\n",
       "Company            0\n",
       "Churn              0\n",
       "Postal_Code        0\n",
       "State              0\n",
       "dtype: int64"
      ]
     },
     "execution_count": 355,
     "metadata": {},
     "output_type": "execute_result"
    }
   ],
   "source": [
    "df.isnull().sum()"
   ]
  },
  {
   "cell_type": "code",
   "execution_count": 357,
   "id": "f40e5d67-0302-423e-ad0b-9a12dd0cc723",
   "metadata": {},
   "outputs": [
    {
     "data": {
      "text/plain": [
       "Company\n",
       "Anderson Group            4\n",
       "Smith and Sons            2\n",
       "Soto PLC                  2\n",
       "Ortiz Ltd                 2\n",
       "Williams LLC              2\n",
       "                         ..\n",
       "Williams-Charles          1\n",
       "Jones, Reyes and Cross    1\n",
       "Cowan Inc                 1\n",
       "Cortez Inc                1\n",
       "Robles-Abbott             1\n",
       "Name: count, Length: 805, dtype: int64"
      ]
     },
     "execution_count": 357,
     "metadata": {},
     "output_type": "execute_result"
    }
   ],
   "source": [
    "df.Company.value_counts()"
   ]
  },
  {
   "cell_type": "code",
   "execution_count": 381,
   "id": "31409932-7c05-407b-b5d2-740f4ae5ce09",
   "metadata": {},
   "outputs": [
    {
     "data": {
      "text/plain": [
       "<Axes: xlabel='Company'>"
      ]
     },
     "execution_count": 381,
     "metadata": {},
     "output_type": "execute_result"
    },
    {
     "data": {
      "image/png": "[encoded data removed]",
      "text/plain": [
       "<Figure size 800x800 with 1 Axes>"
      ]
     },
     "metadata": {},
     "output_type": "display_data"
    }
   ],
   "source": [
    "df.groupby('Company')['Total_Purchase'].max().sort_values().plot(figsize = (8, 8))"
   ]
  },
  {
   "cell_type": "code",
   "execution_count": 383,
   "id": "d13a20d9-1a42-4ab8-9e36-4bf949dcf10f",
   "metadata": {},
   "outputs": [
    {
     "data": {
      "text/plain": [
       "Postal_Code\n",
       "68644         2\n",
       "89518         1\n",
       "25891         1\n",
       "14397         1\n",
       "05913         1\n",
       "             ..\n",
       "86960         1\n",
       "08892-1815    1\n",
       "93959-2444    1\n",
       "23498         1\n",
       "80121-6348    1\n",
       "Name: count, Length: 825, dtype: int64"
      ]
     },
     "execution_count": 383,
     "metadata": {},
     "output_type": "execute_result"
    }
   ],
   "source": [
    "df.Postal_Code.value_counts()"
   ]
  },
  {
   "cell_type": "code",
   "execution_count": 385,
   "id": "2e296f1f-31e4-4f67-a940-285d804f97d7",
   "metadata": {},
   "outputs": [],
   "source": [
    "#Re-ordering The columns: \n",
    "order = ['Company', 'Age', 'Total_Purchase', 'Account_Manager', 'Years', 'Num_Sites', 'Onboard_date', 'Location', 'State', 'Postal_Code', 'Churn']\n",
    "df = df[order]"
   ]
  },
  {
   "cell_type": "code",
   "execution_count": 387,
   "id": "200a0d54-0c82-4161-a776-48d54816e47d",
   "metadata": {},
   "outputs": [
    {
     "data": {
      "text/html": [
       "<div>\n",
       "<style scoped>\n",
       "    .dataframe tbody tr th:only-of-type {\n",
       "        vertical-align: middle;\n",
       "    }\n",
       "\n",
       "    .dataframe tbody tr th {\n",
       "        vertical-align: top;\n",
       "    }\n",
       "\n",
       "    .dataframe thead th {\n",
       "        text-align: right;\n",
       "    }\n",
       "</style>\n",
       "<table border=\"1\" class=\"dataframe\">\n",
       "  <thead>\n",
       "    <tr style=\"text-align: right;\">\n",
       "      <th></th>\n",
       "      <th>Company</th>\n",
       "      <th>Age</th>\n",
       "      <th>Total_Purchase</th>\n",
       "      <th>Account_Manager</th>\n",
       "      <th>Years</th>\n",
       "      <th>Num_Sites</th>\n",
       "      <th>Onboard_date</th>\n",
       "      <th>Location</th>\n",
       "      <th>State</th>\n",
       "      <th>Postal_Code</th>\n",
       "      <th>Churn</th>\n",
       "    </tr>\n",
       "  </thead>\n",
       "  <tbody>\n",
       "    <tr>\n",
       "      <th>0</th>\n",
       "      <td>Harvey LLC</td>\n",
       "      <td>42.0</td>\n",
       "      <td>11066.80</td>\n",
       "      <td>0</td>\n",
       "      <td>7.22</td>\n",
       "      <td>8.0</td>\n",
       "      <td>2013-08-30 07:00:40</td>\n",
       "      <td>10265 Elizabeth Mission Barkerburgh, AK 89518</td>\n",
       "      <td>AK</td>\n",
       "      <td>89518</td>\n",
       "      <td>1</td>\n",
       "    </tr>\n",
       "    <tr>\n",
       "      <th>1</th>\n",
       "      <td>Wilson PLC</td>\n",
       "      <td>41.0</td>\n",
       "      <td>11916.22</td>\n",
       "      <td>0</td>\n",
       "      <td>6.50</td>\n",
       "      <td>11.0</td>\n",
       "      <td>2013-08-13 00:38:46</td>\n",
       "      <td>6157 Frank Gardens Suite 019 Carloshaven, RI 1...</td>\n",
       "      <td>RI</td>\n",
       "      <td>17756</td>\n",
       "      <td>1</td>\n",
       "    </tr>\n",
       "    <tr>\n",
       "      <th>2</th>\n",
       "      <td>Miller, Johnson and Wallace</td>\n",
       "      <td>38.0</td>\n",
       "      <td>12884.75</td>\n",
       "      <td>0</td>\n",
       "      <td>6.67</td>\n",
       "      <td>12.0</td>\n",
       "      <td>2016-06-29 06:20:07</td>\n",
       "      <td>1331 Keith Court Alyssahaven, DE 90114</td>\n",
       "      <td>DE</td>\n",
       "      <td>90114</td>\n",
       "      <td>1</td>\n",
       "    </tr>\n",
       "    <tr>\n",
       "      <th>3</th>\n",
       "      <td>Smith Inc</td>\n",
       "      <td>42.0</td>\n",
       "      <td>8010.76</td>\n",
       "      <td>0</td>\n",
       "      <td>6.71</td>\n",
       "      <td>10.0</td>\n",
       "      <td>2014-04-22 12:43:12</td>\n",
       "      <td>13120 Daniel Mount Angelabury, WY 30645-4695</td>\n",
       "      <td>WY</td>\n",
       "      <td>30645-4695</td>\n",
       "      <td>1</td>\n",
       "    </tr>\n",
       "    <tr>\n",
       "      <th>4</th>\n",
       "      <td>Love-Jones</td>\n",
       "      <td>37.0</td>\n",
       "      <td>9191.58</td>\n",
       "      <td>0</td>\n",
       "      <td>5.56</td>\n",
       "      <td>9.0</td>\n",
       "      <td>2016-01-19 15:31:15</td>\n",
       "      <td>765 Tricia Row Karenshire, MH 71730</td>\n",
       "      <td>MH</td>\n",
       "      <td>71730</td>\n",
       "      <td>1</td>\n",
       "    </tr>\n",
       "  </tbody>\n",
       "</table>\n",
       "</div>"
      ],
      "text/plain": [
       "                       Company   Age  Total_Purchase  Account_Manager  Years  \\\n",
       "0                   Harvey LLC  42.0        11066.80                0   7.22   \n",
       "1                   Wilson PLC  41.0        11916.22                0   6.50   \n",
       "2  Miller, Johnson and Wallace  38.0        12884.75                0   6.67   \n",
       "3                    Smith Inc  42.0         8010.76                0   6.71   \n",
       "4                   Love-Jones  37.0         9191.58                0   5.56   \n",
       "\n",
       "   Num_Sites        Onboard_date  \\\n",
       "0        8.0 2013-08-30 07:00:40   \n",
       "1       11.0 2013-08-13 00:38:46   \n",
       "2       12.0 2016-06-29 06:20:07   \n",
       "3       10.0 2014-04-22 12:43:12   \n",
       "4        9.0 2016-01-19 15:31:15   \n",
       "\n",
       "                                            Location State Postal_Code  Churn  \n",
       "0      10265 Elizabeth Mission Barkerburgh, AK 89518    AK       89518      1  \n",
       "1  6157 Frank Gardens Suite 019 Carloshaven, RI 1...    RI       17756      1  \n",
       "2             1331 Keith Court Alyssahaven, DE 90114    DE       90114      1  \n",
       "3       13120 Daniel Mount Angelabury, WY 30645-4695    WY  30645-4695      1  \n",
       "4                765 Tricia Row Karenshire, MH 71730    MH       71730      1  "
      ]
     },
     "execution_count": 387,
     "metadata": {},
     "output_type": "execute_result"
    }
   ],
   "source": [
    "df.head()"
   ]
  },
  {
   "cell_type": "code",
   "execution_count": 389,
   "id": "752123dc-3ade-4619-bba5-d4c14deb2d55",
   "metadata": {},
   "outputs": [],
   "source": [
    "# Dropping off the Location \n",
    "df = df.drop('Location', axis=1)"
   ]
  },
  {
   "cell_type": "code",
   "execution_count": 391,
   "id": "6cbfbf9b-f8c3-4988-9876-8ab17a1c6bf3",
   "metadata": {},
   "outputs": [
    {
     "data": {
      "text/html": [
       "<div>\n",
       "<style scoped>\n",
       "    .dataframe tbody tr th:only-of-type {\n",
       "        vertical-align: middle;\n",
       "    }\n",
       "\n",
       "    .dataframe tbody tr th {\n",
       "        vertical-align: top;\n",
       "    }\n",
       "\n",
       "    .dataframe thead th {\n",
       "        text-align: right;\n",
       "    }\n",
       "</style>\n",
       "<table border=\"1\" class=\"dataframe\">\n",
       "  <thead>\n",
       "    <tr style=\"text-align: right;\">\n",
       "      <th></th>\n",
       "      <th>Company</th>\n",
       "      <th>Age</th>\n",
       "      <th>Total_Purchase</th>\n",
       "      <th>Account_Manager</th>\n",
       "      <th>Years</th>\n",
       "      <th>Num_Sites</th>\n",
       "      <th>Onboard_date</th>\n",
       "      <th>State</th>\n",
       "      <th>Postal_Code</th>\n",
       "      <th>Churn</th>\n",
       "    </tr>\n",
       "  </thead>\n",
       "  <tbody>\n",
       "    <tr>\n",
       "      <th>0</th>\n",
       "      <td>Harvey LLC</td>\n",
       "      <td>42.0</td>\n",
       "      <td>11066.80</td>\n",
       "      <td>0</td>\n",
       "      <td>7.22</td>\n",
       "      <td>8.0</td>\n",
       "      <td>2013-08-30 07:00:40</td>\n",
       "      <td>AK</td>\n",
       "      <td>89518</td>\n",
       "      <td>1</td>\n",
       "    </tr>\n",
       "    <tr>\n",
       "      <th>1</th>\n",
       "      <td>Wilson PLC</td>\n",
       "      <td>41.0</td>\n",
       "      <td>11916.22</td>\n",
       "      <td>0</td>\n",
       "      <td>6.50</td>\n",
       "      <td>11.0</td>\n",
       "      <td>2013-08-13 00:38:46</td>\n",
       "      <td>RI</td>\n",
       "      <td>17756</td>\n",
       "      <td>1</td>\n",
       "    </tr>\n",
       "    <tr>\n",
       "      <th>2</th>\n",
       "      <td>Miller, Johnson and Wallace</td>\n",
       "      <td>38.0</td>\n",
       "      <td>12884.75</td>\n",
       "      <td>0</td>\n",
       "      <td>6.67</td>\n",
       "      <td>12.0</td>\n",
       "      <td>2016-06-29 06:20:07</td>\n",
       "      <td>DE</td>\n",
       "      <td>90114</td>\n",
       "      <td>1</td>\n",
       "    </tr>\n",
       "    <tr>\n",
       "      <th>3</th>\n",
       "      <td>Smith Inc</td>\n",
       "      <td>42.0</td>\n",
       "      <td>8010.76</td>\n",
       "      <td>0</td>\n",
       "      <td>6.71</td>\n",
       "      <td>10.0</td>\n",
       "      <td>2014-04-22 12:43:12</td>\n",
       "      <td>WY</td>\n",
       "      <td>30645-4695</td>\n",
       "      <td>1</td>\n",
       "    </tr>\n",
       "    <tr>\n",
       "      <th>4</th>\n",
       "      <td>Love-Jones</td>\n",
       "      <td>37.0</td>\n",
       "      <td>9191.58</td>\n",
       "      <td>0</td>\n",
       "      <td>5.56</td>\n",
       "      <td>9.0</td>\n",
       "      <td>2016-01-19 15:31:15</td>\n",
       "      <td>MH</td>\n",
       "      <td>71730</td>\n",
       "      <td>1</td>\n",
       "    </tr>\n",
       "  </tbody>\n",
       "</table>\n",
       "</div>"
      ],
      "text/plain": [
       "                       Company   Age  Total_Purchase  Account_Manager  Years  \\\n",
       "0                   Harvey LLC  42.0        11066.80                0   7.22   \n",
       "1                   Wilson PLC  41.0        11916.22                0   6.50   \n",
       "2  Miller, Johnson and Wallace  38.0        12884.75                0   6.67   \n",
       "3                    Smith Inc  42.0         8010.76                0   6.71   \n",
       "4                   Love-Jones  37.0         9191.58                0   5.56   \n",
       "\n",
       "   Num_Sites        Onboard_date State Postal_Code  Churn  \n",
       "0        8.0 2013-08-30 07:00:40    AK       89518      1  \n",
       "1       11.0 2013-08-13 00:38:46    RI       17756      1  \n",
       "2       12.0 2016-06-29 06:20:07    DE       90114      1  \n",
       "3       10.0 2014-04-22 12:43:12    WY  30645-4695      1  \n",
       "4        9.0 2016-01-19 15:31:15    MH       71730      1  "
      ]
     },
     "execution_count": 391,
     "metadata": {},
     "output_type": "execute_result"
    }
   ],
   "source": [
    "df.head()"
   ]
  },
  {
   "cell_type": "code",
   "execution_count": 393,
   "id": "573eac0a-5307-45ae-a8a7-b4efc9102efe",
   "metadata": {},
   "outputs": [
    {
     "data": {
      "text/plain": [
       "<seaborn.axisgrid.PairGrid at 0x1d3a37b2660>"
      ]
     },
     "execution_count": 393,
     "metadata": {},
     "output_type": "execute_result"
    },
    {
     "data": {
      "image/png": "[encoded data removed]",
      "text/plain": [
       "<Figure size 1500x1500 with 42 Axes>"
      ]
     },
     "metadata": {},
     "output_type": "display_data"
    }
   ],
   "source": [
    "import seaborn as sns\n",
    "sns.pairplot(df)"
   ]
  },
  {
   "cell_type": "code",
   "execution_count": 395,
   "id": "a3fde670-8356-43df-a29c-fe2d8e08106c",
   "metadata": {},
   "outputs": [
    {
     "name": "stdout",
     "output_type": "stream",
     "text": [
      "Correlation between Years and Total Purchase is: 0.004824511523649961\n",
      "Correlation between Age and Total Purchase is: -0.027383787571931124\n",
      "Correlation between Number of Sites used and Total Purchase is: -0.004417375832615418\n",
      "Correlation between Number of Site used and Years is: 0.04148440916663727\n"
     ]
    }
   ],
   "source": [
    "relation_Y_TP = df['Years'].corr(df['Total_Purchase'])\n",
    "relation_Age_TP = df['Age'].corr(df['Total_Purchase'])\n",
    "relation_Num_Site_TP = df['Num_Sites'].corr(df['Total_Purchase'])\n",
    "relation_Num_Site_Years = df['Num_Sites'].corr(df['Years'])\n",
    "print(f'Correlation between Years and Total Purchase is:', relation_Y_TP)\n",
    "print(f'Correlation between Age and Total Purchase is:', relation_Age_TP)\n",
    "print(f'Correlation between Number of Sites used and Total Purchase is:', relation_Num_Site_TP)\n",
    "print(f'Correlation between Number of Site used and Years is:', relation_Num_Site_Years)"
   ]
  },
  {
   "cell_type": "code",
   "execution_count": 397,
   "id": "21556c2e-ea55-43aa-a16c-f9d91797c22d",
   "metadata": {},
   "outputs": [],
   "source": [
    "# Dropping off Account Manager details \n",
    "df.drop('Account_Manager', axis=1, inplace=True)"
   ]
  },
  {
   "cell_type": "code",
   "execution_count": 399,
   "id": "f06d02a7-0f98-4415-ab2d-df8f9c37c368",
   "metadata": {},
   "outputs": [
    {
     "data": {
      "text/html": [
       "<div>\n",
       "<style scoped>\n",
       "    .dataframe tbody tr th:only-of-type {\n",
       "        vertical-align: middle;\n",
       "    }\n",
       "\n",
       "    .dataframe tbody tr th {\n",
       "        vertical-align: top;\n",
       "    }\n",
       "\n",
       "    .dataframe thead th {\n",
       "        text-align: right;\n",
       "    }\n",
       "</style>\n",
       "<table border=\"1\" class=\"dataframe\">\n",
       "  <thead>\n",
       "    <tr style=\"text-align: right;\">\n",
       "      <th></th>\n",
       "      <th>Company</th>\n",
       "      <th>Age</th>\n",
       "      <th>Total_Purchase</th>\n",
       "      <th>Years</th>\n",
       "      <th>Num_Sites</th>\n",
       "      <th>Onboard_date</th>\n",
       "      <th>State</th>\n",
       "      <th>Postal_Code</th>\n",
       "      <th>Churn</th>\n",
       "    </tr>\n",
       "  </thead>\n",
       "  <tbody>\n",
       "    <tr>\n",
       "      <th>0</th>\n",
       "      <td>Harvey LLC</td>\n",
       "      <td>42.0</td>\n",
       "      <td>11066.80</td>\n",
       "      <td>7.22</td>\n",
       "      <td>8.0</td>\n",
       "      <td>2013-08-30 07:00:40</td>\n",
       "      <td>AK</td>\n",
       "      <td>89518</td>\n",
       "      <td>1</td>\n",
       "    </tr>\n",
       "    <tr>\n",
       "      <th>1</th>\n",
       "      <td>Wilson PLC</td>\n",
       "      <td>41.0</td>\n",
       "      <td>11916.22</td>\n",
       "      <td>6.50</td>\n",
       "      <td>11.0</td>\n",
       "      <td>2013-08-13 00:38:46</td>\n",
       "      <td>RI</td>\n",
       "      <td>17756</td>\n",
       "      <td>1</td>\n",
       "    </tr>\n",
       "    <tr>\n",
       "      <th>2</th>\n",
       "      <td>Miller, Johnson and Wallace</td>\n",
       "      <td>38.0</td>\n",
       "      <td>12884.75</td>\n",
       "      <td>6.67</td>\n",
       "      <td>12.0</td>\n",
       "      <td>2016-06-29 06:20:07</td>\n",
       "      <td>DE</td>\n",
       "      <td>90114</td>\n",
       "      <td>1</td>\n",
       "    </tr>\n",
       "    <tr>\n",
       "      <th>3</th>\n",
       "      <td>Smith Inc</td>\n",
       "      <td>42.0</td>\n",
       "      <td>8010.76</td>\n",
       "      <td>6.71</td>\n",
       "      <td>10.0</td>\n",
       "      <td>2014-04-22 12:43:12</td>\n",
       "      <td>WY</td>\n",
       "      <td>30645-4695</td>\n",
       "      <td>1</td>\n",
       "    </tr>\n",
       "    <tr>\n",
       "      <th>4</th>\n",
       "      <td>Love-Jones</td>\n",
       "      <td>37.0</td>\n",
       "      <td>9191.58</td>\n",
       "      <td>5.56</td>\n",
       "      <td>9.0</td>\n",
       "      <td>2016-01-19 15:31:15</td>\n",
       "      <td>MH</td>\n",
       "      <td>71730</td>\n",
       "      <td>1</td>\n",
       "    </tr>\n",
       "  </tbody>\n",
       "</table>\n",
       "</div>"
      ],
      "text/plain": [
       "                       Company   Age  Total_Purchase  Years  Num_Sites  \\\n",
       "0                   Harvey LLC  42.0        11066.80   7.22        8.0   \n",
       "1                   Wilson PLC  41.0        11916.22   6.50       11.0   \n",
       "2  Miller, Johnson and Wallace  38.0        12884.75   6.67       12.0   \n",
       "3                    Smith Inc  42.0         8010.76   6.71       10.0   \n",
       "4                   Love-Jones  37.0         9191.58   5.56        9.0   \n",
       "\n",
       "         Onboard_date State Postal_Code  Churn  \n",
       "0 2013-08-30 07:00:40    AK       89518      1  \n",
       "1 2013-08-13 00:38:46    RI       17756      1  \n",
       "2 2016-06-29 06:20:07    DE       90114      1  \n",
       "3 2014-04-22 12:43:12    WY  30645-4695      1  \n",
       "4 2016-01-19 15:31:15    MH       71730      1  "
      ]
     },
     "execution_count": 399,
     "metadata": {},
     "output_type": "execute_result"
    }
   ],
   "source": [
    "df.head()"
   ]
  },
  {
   "cell_type": "code",
   "execution_count": 401,
   "id": "58d4a2ac-ba2e-4246-b941-369ed81c84d8",
   "metadata": {},
   "outputs": [
    {
     "name": "stdout",
     "output_type": "stream",
     "text": [
      "<class 'pandas.core.frame.DataFrame'>\n",
      "Index: 826 entries, 0 to 899\n",
      "Data columns (total 9 columns):\n",
      " #   Column          Non-Null Count  Dtype         \n",
      "---  ------          --------------  -----         \n",
      " 0   Company         826 non-null    object        \n",
      " 1   Age             826 non-null    float64       \n",
      " 2   Total_Purchase  826 non-null    float64       \n",
      " 3   Years           826 non-null    float64       \n",
      " 4   Num_Sites       826 non-null    float64       \n",
      " 5   Onboard_date    826 non-null    datetime64[ns]\n",
      " 6   State           826 non-null    object        \n",
      " 7   Postal_Code     826 non-null    object        \n",
      " 8   Churn           826 non-null    int64         \n",
      "dtypes: datetime64[ns](1), float64(4), int64(1), object(3)\n",
      "memory usage: 64.5+ KB\n"
     ]
    }
   ],
   "source": [
    "df.info()"
   ]
  },
  {
   "cell_type": "code",
   "execution_count": 425,
   "id": "8ffdd45a-d6d3-4ca3-8cba-2d94c7b0cdb6",
   "metadata": {},
   "outputs": [],
   "source": [
    "#Extracting Year from the time stamp \n",
    "df['Year'] = pd.DatetimeIndex(df['Onboard_date']).year"
   ]
  },
  {
   "cell_type": "code",
   "execution_count": 427,
   "id": "cad5d26f-a7b0-4a53-b2e6-da0046cb6590",
   "metadata": {},
   "outputs": [
    {
     "name": "stdout",
     "output_type": "stream",
     "text": [
      "<class 'pandas.core.frame.DataFrame'>\n",
      "Index: 826 entries, 0 to 899\n",
      "Data columns (total 10 columns):\n",
      " #   Column          Non-Null Count  Dtype         \n",
      "---  ------          --------------  -----         \n",
      " 0   Company         826 non-null    object        \n",
      " 1   Age             826 non-null    float64       \n",
      " 2   Total_Purchase  826 non-null    float64       \n",
      " 3   Years           826 non-null    float64       \n",
      " 4   Num_Sites       826 non-null    float64       \n",
      " 5   Onboard_date    826 non-null    datetime64[ns]\n",
      " 6   State           826 non-null    object        \n",
      " 7   Postal_Code     826 non-null    object        \n",
      " 8   Churn           826 non-null    int64         \n",
      " 9   Year            826 non-null    int32         \n",
      "dtypes: datetime64[ns](1), float64(4), int32(1), int64(1), object(3)\n",
      "memory usage: 67.8+ KB\n"
     ]
    }
   ],
   "source": [
    "df.info()"
   ]
  },
  {
   "cell_type": "code",
   "execution_count": 429,
   "id": "8ff62370-2f98-4f53-a114-2420518cf814",
   "metadata": {},
   "outputs": [
    {
     "data": {
      "text/html": [
       "<div>\n",
       "<style scoped>\n",
       "    .dataframe tbody tr th:only-of-type {\n",
       "        vertical-align: middle;\n",
       "    }\n",
       "\n",
       "    .dataframe tbody tr th {\n",
       "        vertical-align: top;\n",
       "    }\n",
       "\n",
       "    .dataframe thead th {\n",
       "        text-align: right;\n",
       "    }\n",
       "</style>\n",
       "<table border=\"1\" class=\"dataframe\">\n",
       "  <thead>\n",
       "    <tr style=\"text-align: right;\">\n",
       "      <th></th>\n",
       "      <th>Company</th>\n",
       "      <th>Age</th>\n",
       "      <th>Total_Purchase</th>\n",
       "      <th>Years</th>\n",
       "      <th>Num_Sites</th>\n",
       "      <th>Onboard_date</th>\n",
       "      <th>State</th>\n",
       "      <th>Postal_Code</th>\n",
       "      <th>Churn</th>\n",
       "      <th>Year</th>\n",
       "    </tr>\n",
       "  </thead>\n",
       "  <tbody>\n",
       "    <tr>\n",
       "      <th>0</th>\n",
       "      <td>Harvey LLC</td>\n",
       "      <td>42.0</td>\n",
       "      <td>11066.80</td>\n",
       "      <td>7.22</td>\n",
       "      <td>8.0</td>\n",
       "      <td>2013-08-30 07:00:40</td>\n",
       "      <td>AK</td>\n",
       "      <td>89518</td>\n",
       "      <td>1</td>\n",
       "      <td>2013</td>\n",
       "    </tr>\n",
       "    <tr>\n",
       "      <th>1</th>\n",
       "      <td>Wilson PLC</td>\n",
       "      <td>41.0</td>\n",
       "      <td>11916.22</td>\n",
       "      <td>6.50</td>\n",
       "      <td>11.0</td>\n",
       "      <td>2013-08-13 00:38:46</td>\n",
       "      <td>RI</td>\n",
       "      <td>17756</td>\n",
       "      <td>1</td>\n",
       "      <td>2013</td>\n",
       "    </tr>\n",
       "    <tr>\n",
       "      <th>2</th>\n",
       "      <td>Miller, Johnson and Wallace</td>\n",
       "      <td>38.0</td>\n",
       "      <td>12884.75</td>\n",
       "      <td>6.67</td>\n",
       "      <td>12.0</td>\n",
       "      <td>2016-06-29 06:20:07</td>\n",
       "      <td>DE</td>\n",
       "      <td>90114</td>\n",
       "      <td>1</td>\n",
       "      <td>2016</td>\n",
       "    </tr>\n",
       "    <tr>\n",
       "      <th>3</th>\n",
       "      <td>Smith Inc</td>\n",
       "      <td>42.0</td>\n",
       "      <td>8010.76</td>\n",
       "      <td>6.71</td>\n",
       "      <td>10.0</td>\n",
       "      <td>2014-04-22 12:43:12</td>\n",
       "      <td>WY</td>\n",
       "      <td>30645-4695</td>\n",
       "      <td>1</td>\n",
       "      <td>2014</td>\n",
       "    </tr>\n",
       "    <tr>\n",
       "      <th>4</th>\n",
       "      <td>Love-Jones</td>\n",
       "      <td>37.0</td>\n",
       "      <td>9191.58</td>\n",
       "      <td>5.56</td>\n",
       "      <td>9.0</td>\n",
       "      <td>2016-01-19 15:31:15</td>\n",
       "      <td>MH</td>\n",
       "      <td>71730</td>\n",
       "      <td>1</td>\n",
       "      <td>2016</td>\n",
       "    </tr>\n",
       "  </tbody>\n",
       "</table>\n",
       "</div>"
      ],
      "text/plain": [
       "                       Company   Age  Total_Purchase  Years  Num_Sites  \\\n",
       "0                   Harvey LLC  42.0        11066.80   7.22        8.0   \n",
       "1                   Wilson PLC  41.0        11916.22   6.50       11.0   \n",
       "2  Miller, Johnson and Wallace  38.0        12884.75   6.67       12.0   \n",
       "3                    Smith Inc  42.0         8010.76   6.71       10.0   \n",
       "4                   Love-Jones  37.0         9191.58   5.56        9.0   \n",
       "\n",
       "         Onboard_date State Postal_Code  Churn  Year  \n",
       "0 2013-08-30 07:00:40    AK       89518      1  2013  \n",
       "1 2013-08-13 00:38:46    RI       17756      1  2013  \n",
       "2 2016-06-29 06:20:07    DE       90114      1  2016  \n",
       "3 2014-04-22 12:43:12    WY  30645-4695      1  2014  \n",
       "4 2016-01-19 15:31:15    MH       71730      1  2016  "
      ]
     },
     "execution_count": 429,
     "metadata": {},
     "output_type": "execute_result"
    }
   ],
   "source": [
    "df.head()"
   ]
  },
  {
   "cell_type": "code",
   "execution_count": 433,
   "id": "1d2297e4-2c3f-42ed-9937-7e81c8526cef",
   "metadata": {},
   "outputs": [],
   "source": [
    "df.drop('Onboard_date', axis=1, inplace=True)"
   ]
  },
  {
   "cell_type": "code",
   "execution_count": 435,
   "id": "15b0bc32-0599-4486-97c2-9575a23c9f27",
   "metadata": {},
   "outputs": [
    {
     "data": {
      "text/html": [
       "<div>\n",
       "<style scoped>\n",
       "    .dataframe tbody tr th:only-of-type {\n",
       "        vertical-align: middle;\n",
       "    }\n",
       "\n",
       "    .dataframe tbody tr th {\n",
       "        vertical-align: top;\n",
       "    }\n",
       "\n",
       "    .dataframe thead th {\n",
       "        text-align: right;\n",
       "    }\n",
       "</style>\n",
       "<table border=\"1\" class=\"dataframe\">\n",
       "  <thead>\n",
       "    <tr style=\"text-align: right;\">\n",
       "      <th></th>\n",
       "      <th>Company</th>\n",
       "      <th>Age</th>\n",
       "      <th>Total_Purchase</th>\n",
       "      <th>Years</th>\n",
       "      <th>Num_Sites</th>\n",
       "      <th>State</th>\n",
       "      <th>Postal_Code</th>\n",
       "      <th>Churn</th>\n",
       "      <th>Year</th>\n",
       "    </tr>\n",
       "  </thead>\n",
       "  <tbody>\n",
       "    <tr>\n",
       "      <th>0</th>\n",
       "      <td>Harvey LLC</td>\n",
       "      <td>42.0</td>\n",
       "      <td>11066.80</td>\n",
       "      <td>7.22</td>\n",
       "      <td>8.0</td>\n",
       "      <td>AK</td>\n",
       "      <td>89518</td>\n",
       "      <td>1</td>\n",
       "      <td>2013</td>\n",
       "    </tr>\n",
       "    <tr>\n",
       "      <th>1</th>\n",
       "      <td>Wilson PLC</td>\n",
       "      <td>41.0</td>\n",
       "      <td>11916.22</td>\n",
       "      <td>6.50</td>\n",
       "      <td>11.0</td>\n",
       "      <td>RI</td>\n",
       "      <td>17756</td>\n",
       "      <td>1</td>\n",
       "      <td>2013</td>\n",
       "    </tr>\n",
       "    <tr>\n",
       "      <th>2</th>\n",
       "      <td>Miller, Johnson and Wallace</td>\n",
       "      <td>38.0</td>\n",
       "      <td>12884.75</td>\n",
       "      <td>6.67</td>\n",
       "      <td>12.0</td>\n",
       "      <td>DE</td>\n",
       "      <td>90114</td>\n",
       "      <td>1</td>\n",
       "      <td>2016</td>\n",
       "    </tr>\n",
       "    <tr>\n",
       "      <th>3</th>\n",
       "      <td>Smith Inc</td>\n",
       "      <td>42.0</td>\n",
       "      <td>8010.76</td>\n",
       "      <td>6.71</td>\n",
       "      <td>10.0</td>\n",
       "      <td>WY</td>\n",
       "      <td>30645-4695</td>\n",
       "      <td>1</td>\n",
       "      <td>2014</td>\n",
       "    </tr>\n",
       "    <tr>\n",
       "      <th>4</th>\n",
       "      <td>Love-Jones</td>\n",
       "      <td>37.0</td>\n",
       "      <td>9191.58</td>\n",
       "      <td>5.56</td>\n",
       "      <td>9.0</td>\n",
       "      <td>MH</td>\n",
       "      <td>71730</td>\n",
       "      <td>1</td>\n",
       "      <td>2016</td>\n",
       "    </tr>\n",
       "  </tbody>\n",
       "</table>\n",
       "</div>"
      ],
      "text/plain": [
       "                       Company   Age  Total_Purchase  Years  Num_Sites State  \\\n",
       "0                   Harvey LLC  42.0        11066.80   7.22        8.0    AK   \n",
       "1                   Wilson PLC  41.0        11916.22   6.50       11.0    RI   \n",
       "2  Miller, Johnson and Wallace  38.0        12884.75   6.67       12.0    DE   \n",
       "3                    Smith Inc  42.0         8010.76   6.71       10.0    WY   \n",
       "4                   Love-Jones  37.0         9191.58   5.56        9.0    MH   \n",
       "\n",
       "  Postal_Code  Churn  Year  \n",
       "0       89518      1  2013  \n",
       "1       17756      1  2013  \n",
       "2       90114      1  2016  \n",
       "3  30645-4695      1  2014  \n",
       "4       71730      1  2016  "
      ]
     },
     "execution_count": 435,
     "metadata": {},
     "output_type": "execute_result"
    }
   ],
   "source": [
    "df.head() "
   ]
  },
  {
   "cell_type": "code",
   "execution_count": 451,
   "id": "8847ac7a-65fb-4347-8aa9-a3b5b764b959",
   "metadata": {},
   "outputs": [],
   "source": [
    "#Re-ordering The columns: \n",
    "order1 = ['Company', 'Age', 'Total_Purchase', 'Years', 'Num_Sites', 'Year', 'State', 'Postal_Code', 'Churn']\n",
    "df = df[order1]"
   ]
  },
  {
   "cell_type": "code",
   "execution_count": 447,
   "id": "19c11101-8aa1-4399-bd9d-fe7d0a42706c",
   "metadata": {},
   "outputs": [
    {
     "data": {
      "text/html": [
       "<div>\n",
       "<style scoped>\n",
       "    .dataframe tbody tr th:only-of-type {\n",
       "        vertical-align: middle;\n",
       "    }\n",
       "\n",
       "    .dataframe tbody tr th {\n",
       "        vertical-align: top;\n",
       "    }\n",
       "\n",
       "    .dataframe thead th {\n",
       "        text-align: right;\n",
       "    }\n",
       "</style>\n",
       "<table border=\"1\" class=\"dataframe\">\n",
       "  <thead>\n",
       "    <tr style=\"text-align: right;\">\n",
       "      <th></th>\n",
       "      <th>Company</th>\n",
       "      <th>Age</th>\n",
       "      <th>Total_Purchase</th>\n",
       "      <th>Years</th>\n",
       "      <th>Num_Sites</th>\n",
       "      <th>Year</th>\n",
       "      <th>State</th>\n",
       "      <th>Postal_Code</th>\n",
       "      <th>Churn</th>\n",
       "    </tr>\n",
       "  </thead>\n",
       "  <tbody>\n",
       "    <tr>\n",
       "      <th>0</th>\n",
       "      <td>Harvey LLC</td>\n",
       "      <td>42.0</td>\n",
       "      <td>11066.80</td>\n",
       "      <td>7.22</td>\n",
       "      <td>8.0</td>\n",
       "      <td>2013</td>\n",
       "      <td>AK</td>\n",
       "      <td>89518</td>\n",
       "      <td>1</td>\n",
       "    </tr>\n",
       "    <tr>\n",
       "      <th>1</th>\n",
       "      <td>Wilson PLC</td>\n",
       "      <td>41.0</td>\n",
       "      <td>11916.22</td>\n",
       "      <td>6.50</td>\n",
       "      <td>11.0</td>\n",
       "      <td>2013</td>\n",
       "      <td>RI</td>\n",
       "      <td>17756</td>\n",
       "      <td>1</td>\n",
       "    </tr>\n",
       "    <tr>\n",
       "      <th>2</th>\n",
       "      <td>Miller, Johnson and Wallace</td>\n",
       "      <td>38.0</td>\n",
       "      <td>12884.75</td>\n",
       "      <td>6.67</td>\n",
       "      <td>12.0</td>\n",
       "      <td>2016</td>\n",
       "      <td>DE</td>\n",
       "      <td>90114</td>\n",
       "      <td>1</td>\n",
       "    </tr>\n",
       "    <tr>\n",
       "      <th>3</th>\n",
       "      <td>Smith Inc</td>\n",
       "      <td>42.0</td>\n",
       "      <td>8010.76</td>\n",
       "      <td>6.71</td>\n",
       "      <td>10.0</td>\n",
       "      <td>2014</td>\n",
       "      <td>WY</td>\n",
       "      <td>30645-4695</td>\n",
       "      <td>1</td>\n",
       "    </tr>\n",
       "    <tr>\n",
       "      <th>4</th>\n",
       "      <td>Love-Jones</td>\n",
       "      <td>37.0</td>\n",
       "      <td>9191.58</td>\n",
       "      <td>5.56</td>\n",
       "      <td>9.0</td>\n",
       "      <td>2016</td>\n",
       "      <td>MH</td>\n",
       "      <td>71730</td>\n",
       "      <td>1</td>\n",
       "    </tr>\n",
       "  </tbody>\n",
       "</table>\n",
       "</div>"
      ],
      "text/plain": [
       "                       Company   Age  Total_Purchase  Years  Num_Sites  Year  \\\n",
       "0                   Harvey LLC  42.0        11066.80   7.22        8.0  2013   \n",
       "1                   Wilson PLC  41.0        11916.22   6.50       11.0  2013   \n",
       "2  Miller, Johnson and Wallace  38.0        12884.75   6.67       12.0  2016   \n",
       "3                    Smith Inc  42.0         8010.76   6.71       10.0  2014   \n",
       "4                   Love-Jones  37.0         9191.58   5.56        9.0  2016   \n",
       "\n",
       "  State Postal_Code  Churn  \n",
       "0    AK       89518      1  \n",
       "1    RI       17756      1  \n",
       "2    DE       90114      1  \n",
       "3    WY  30645-4695      1  \n",
       "4    MH       71730      1  "
      ]
     },
     "execution_count": 447,
     "metadata": {},
     "output_type": "execute_result"
    }
   ],
   "source": [
    "df.head"
   ]
  },
  {
   "cell_type": "code",
   "execution_count": 459,
   "id": "228b6fa8-3604-4580-ad4c-ff87f78e5d1d",
   "metadata": {},
   "outputs": [],
   "source": [
    "df.rename(columns={'Year':'Onboard_Year' }, inplace=True)"
   ]
  },
  {
   "cell_type": "code",
   "execution_count": 483,
   "id": "b138cfe4-b01f-4ef5-bb7a-80b8c771670e",
   "metadata": {},
   "outputs": [
    {
     "data": {
      "text/plain": [
       "<Axes: >"
      ]
     },
     "execution_count": 483,
     "metadata": {},
     "output_type": "execute_result"
    },
    {
     "data": {
      "image/png": "[encoded data removed]",
      "text/plain": [
       "<Figure size 640x480 with 1 Axes>"
      ]
     },
     "metadata": {},
     "output_type": "display_data"
    }
   ],
   "source": [
    "sns.boxplot(df)"
   ]
  },
  {
   "cell_type": "code",
   "execution_count": null,
   "id": "46944ec5-ebf0-4749-9a7b-a5462cda5e06",
   "metadata": {},
   "outputs": [],
   "source": []
  },
  {
   "cell_type": "code",
   "execution_count": 539,
   "id": "09e482f4-294e-4d54-95df-1f55d07ab4a4",
   "metadata": {},
   "outputs": [],
   "source": [
    "X = df.drop(columns=['Churn'])\n",
    "y = df['Churn']"
   ]
  },
  {
   "cell_type": "code",
   "execution_count": 541,
   "id": "9e7648e5-e250-4f19-930f-d4998d53c787",
   "metadata": {},
   "outputs": [],
   "source": [
    "X.drop('Postal_Code', axis=1, inplace=True)"
   ]
  },
  {
   "cell_type": "code",
   "execution_count": 543,
   "id": "1211f9b1-abc3-42df-90de-ea4a9ddd3156",
   "metadata": {},
   "outputs": [
    {
     "data": {
      "text/html": [
       "<div>\n",
       "<style scoped>\n",
       "    .dataframe tbody tr th:only-of-type {\n",
       "        vertical-align: middle;\n",
       "    }\n",
       "\n",
       "    .dataframe tbody tr th {\n",
       "        vertical-align: top;\n",
       "    }\n",
       "\n",
       "    .dataframe thead th {\n",
       "        text-align: right;\n",
       "    }\n",
       "</style>\n",
       "<table border=\"1\" class=\"dataframe\">\n",
       "  <thead>\n",
       "    <tr style=\"text-align: right;\">\n",
       "      <th></th>\n",
       "      <th>Company</th>\n",
       "      <th>Age</th>\n",
       "      <th>Total_Purchase</th>\n",
       "      <th>Years</th>\n",
       "      <th>Num_Sites</th>\n",
       "      <th>Onboard_Year</th>\n",
       "      <th>State</th>\n",
       "    </tr>\n",
       "  </thead>\n",
       "  <tbody>\n",
       "    <tr>\n",
       "      <th>0</th>\n",
       "      <td>Harvey LLC</td>\n",
       "      <td>42.0</td>\n",
       "      <td>11066.80</td>\n",
       "      <td>7.22</td>\n",
       "      <td>8.0</td>\n",
       "      <td>2013</td>\n",
       "      <td>AK</td>\n",
       "    </tr>\n",
       "    <tr>\n",
       "      <th>1</th>\n",
       "      <td>Wilson PLC</td>\n",
       "      <td>41.0</td>\n",
       "      <td>11916.22</td>\n",
       "      <td>6.50</td>\n",
       "      <td>11.0</td>\n",
       "      <td>2013</td>\n",
       "      <td>RI</td>\n",
       "    </tr>\n",
       "    <tr>\n",
       "      <th>2</th>\n",
       "      <td>Miller, Johnson and Wallace</td>\n",
       "      <td>38.0</td>\n",
       "      <td>12884.75</td>\n",
       "      <td>6.67</td>\n",
       "      <td>12.0</td>\n",
       "      <td>2016</td>\n",
       "      <td>DE</td>\n",
       "    </tr>\n",
       "    <tr>\n",
       "      <th>3</th>\n",
       "      <td>Smith Inc</td>\n",
       "      <td>42.0</td>\n",
       "      <td>8010.76</td>\n",
       "      <td>6.71</td>\n",
       "      <td>10.0</td>\n",
       "      <td>2014</td>\n",
       "      <td>WY</td>\n",
       "    </tr>\n",
       "    <tr>\n",
       "      <th>4</th>\n",
       "      <td>Love-Jones</td>\n",
       "      <td>37.0</td>\n",
       "      <td>9191.58</td>\n",
       "      <td>5.56</td>\n",
       "      <td>9.0</td>\n",
       "      <td>2016</td>\n",
       "      <td>MH</td>\n",
       "    </tr>\n",
       "    <tr>\n",
       "      <th>...</th>\n",
       "      <td>...</td>\n",
       "      <td>...</td>\n",
       "      <td>...</td>\n",
       "      <td>...</td>\n",
       "      <td>...</td>\n",
       "      <td>...</td>\n",
       "      <td>...</td>\n",
       "    </tr>\n",
       "    <tr>\n",
       "      <th>894</th>\n",
       "      <td>Chavez-Howard</td>\n",
       "      <td>45.0</td>\n",
       "      <td>4863.73</td>\n",
       "      <td>5.17</td>\n",
       "      <td>8.0</td>\n",
       "      <td>2011</td>\n",
       "      <td>UT</td>\n",
       "    </tr>\n",
       "    <tr>\n",
       "      <th>895</th>\n",
       "      <td>Evans-Lucero</td>\n",
       "      <td>42.0</td>\n",
       "      <td>12800.82</td>\n",
       "      <td>3.62</td>\n",
       "      <td>8.0</td>\n",
       "      <td>2007</td>\n",
       "      <td>ME</td>\n",
       "    </tr>\n",
       "    <tr>\n",
       "      <th>896</th>\n",
       "      <td>Perry and Sons</td>\n",
       "      <td>52.0</td>\n",
       "      <td>9893.92</td>\n",
       "      <td>6.91</td>\n",
       "      <td>7.0</td>\n",
       "      <td>2008</td>\n",
       "      <td>RI</td>\n",
       "    </tr>\n",
       "    <tr>\n",
       "      <th>898</th>\n",
       "      <td>Robles-Abbott</td>\n",
       "      <td>51.0</td>\n",
       "      <td>6517.93</td>\n",
       "      <td>5.47</td>\n",
       "      <td>10.0</td>\n",
       "      <td>2012</td>\n",
       "      <td>LA</td>\n",
       "    </tr>\n",
       "    <tr>\n",
       "      <th>899</th>\n",
       "      <td>Davis Group</td>\n",
       "      <td>39.0</td>\n",
       "      <td>9315.60</td>\n",
       "      <td>5.02</td>\n",
       "      <td>10.0</td>\n",
       "      <td>2010</td>\n",
       "      <td>MN</td>\n",
       "    </tr>\n",
       "  </tbody>\n",
       "</table>\n",
       "<p>826 rows × 7 columns</p>\n",
       "</div>"
      ],
      "text/plain": [
       "                         Company   Age  Total_Purchase  Years  Num_Sites  \\\n",
       "0                     Harvey LLC  42.0        11066.80   7.22        8.0   \n",
       "1                     Wilson PLC  41.0        11916.22   6.50       11.0   \n",
       "2    Miller, Johnson and Wallace  38.0        12884.75   6.67       12.0   \n",
       "3                      Smith Inc  42.0         8010.76   6.71       10.0   \n",
       "4                     Love-Jones  37.0         9191.58   5.56        9.0   \n",
       "..                           ...   ...             ...    ...        ...   \n",
       "894                Chavez-Howard  45.0         4863.73   5.17        8.0   \n",
       "895                 Evans-Lucero  42.0        12800.82   3.62        8.0   \n",
       "896               Perry and Sons  52.0         9893.92   6.91        7.0   \n",
       "898                Robles-Abbott  51.0         6517.93   5.47       10.0   \n",
       "899                  Davis Group  39.0         9315.60   5.02       10.0   \n",
       "\n",
       "     Onboard_Year State  \n",
       "0            2013    AK  \n",
       "1            2013    RI  \n",
       "2            2016    DE  \n",
       "3            2014    WY  \n",
       "4            2016    MH  \n",
       "..            ...   ...  \n",
       "894          2011    UT  \n",
       "895          2007    ME  \n",
       "896          2008    RI  \n",
       "898          2012    LA  \n",
       "899          2010    MN  \n",
       "\n",
       "[826 rows x 7 columns]"
      ]
     },
     "execution_count": 543,
     "metadata": {},
     "output_type": "execute_result"
    }
   ],
   "source": [
    "X"
   ]
  },
  {
   "cell_type": "code",
   "execution_count": 545,
   "id": "7dcac0b8-2559-4a44-9f61-f007e7d1fbee",
   "metadata": {},
   "outputs": [
    {
     "name": "stdout",
     "output_type": "stream",
     "text": [
      "<class 'pandas.core.frame.DataFrame'>\n",
      "Index: 826 entries, 0 to 899\n",
      "Data columns (total 7 columns):\n",
      " #   Column          Non-Null Count  Dtype  \n",
      "---  ------          --------------  -----  \n",
      " 0   Company         826 non-null    object \n",
      " 1   Age             826 non-null    float64\n",
      " 2   Total_Purchase  826 non-null    float64\n",
      " 3   Years           826 non-null    float64\n",
      " 4   Num_Sites       826 non-null    float64\n",
      " 5   Onboard_Year    826 non-null    int32  \n",
      " 6   State           826 non-null    object \n",
      "dtypes: float64(4), int32(1), object(2)\n",
      "memory usage: 48.4+ KB\n"
     ]
    }
   ],
   "source": [
    "X.info()"
   ]
  },
  {
   "cell_type": "code",
   "execution_count": 591,
   "id": "07c53699-9ad0-4708-9620-743933d602b4",
   "metadata": {},
   "outputs": [
    {
     "data": {
      "text/plain": [
       "(826, 7)"
      ]
     },
     "execution_count": 591,
     "metadata": {},
     "output_type": "execute_result"
    }
   ],
   "source": [
    "X.shape"
   ]
  },
  {
   "cell_type": "code",
   "execution_count": 663,
   "id": "5b00c9ac-5c2a-484c-8f01-f917c2404951",
   "metadata": {},
   "outputs": [],
   "source": [
    "X.drop('Company', axis=1,inplace=True)"
   ]
  },
  {
   "cell_type": "code",
   "execution_count": 671,
   "id": "f0eef802-da3a-49d0-a6ed-88c4171cf109",
   "metadata": {},
   "outputs": [
    {
     "name": "stdout",
     "output_type": "stream",
     "text": [
      "<class 'pandas.core.frame.DataFrame'>\n",
      "Index: 826 entries, 0 to 899\n",
      "Data columns (total 6 columns):\n",
      " #   Column          Non-Null Count  Dtype  \n",
      "---  ------          --------------  -----  \n",
      " 0   Age             826 non-null    float64\n",
      " 1   Total_Purchase  826 non-null    float64\n",
      " 2   Years           826 non-null    float64\n",
      " 3   Num_Sites       826 non-null    float64\n",
      " 4   Onboard_Year    826 non-null    int32  \n",
      " 5   State           826 non-null    object \n",
      "dtypes: float64(4), int32(1), object(1)\n",
      "memory usage: 41.9+ KB\n"
     ]
    }
   ],
   "source": [
    "X.info()"
   ]
  },
  {
   "cell_type": "code",
   "execution_count": 687,
   "id": "8e685b04-c725-44f9-b92f-11246649e6c8",
   "metadata": {},
   "outputs": [],
   "source": [
    "X.drop('State', axis=1,inplace=True)"
   ]
  },
  {
   "cell_type": "code",
   "execution_count": 689,
   "id": "965f5ca3-8afb-4a3c-a4dd-ba59c37f30e5",
   "metadata": {},
   "outputs": [
    {
     "data": {
      "text/plain": [
       "0      1\n",
       "1      1\n",
       "2      1\n",
       "3      1\n",
       "4      1\n",
       "      ..\n",
       "894    0\n",
       "895    0\n",
       "896    0\n",
       "898    0\n",
       "899    0\n",
       "Name: Churn, Length: 826, dtype: int64"
      ]
     },
     "execution_count": 689,
     "metadata": {},
     "output_type": "execute_result"
    }
   ],
   "source": [
    "y"
   ]
  },
  {
   "cell_type": "code",
   "execution_count": 691,
   "id": "7b0c0204-3f9c-4c8c-bafd-2dfe8de72cbd",
   "metadata": {},
   "outputs": [
    {
     "data": {
      "text/plain": [
       "(826,)"
      ]
     },
     "execution_count": 691,
     "metadata": {},
     "output_type": "execute_result"
    }
   ],
   "source": [
    "y.shape"
   ]
  },
  {
   "cell_type": "markdown",
   "id": "d1f7be23-1d15-4a0c-8265-cdeee961837d",
   "metadata": {},
   "source": [
    "# Splitting the Data Set into Test and Train "
   ]
  },
  {
   "cell_type": "code",
   "execution_count": 703,
   "id": "239cf054-06dc-4df0-bfb0-c546430df6c4",
   "metadata": {},
   "outputs": [],
   "source": [
    "from sklearn.model_selection import train_test_split\n",
    "X_train, X_test, y_train, y_test = train_test_split(X, y, test_size = .15, random_state= 1 )"
   ]
  },
  {
   "cell_type": "code",
   "execution_count": 705,
   "id": "bd45d20f-2551-404a-9687-1144fde35be7",
   "metadata": {},
   "outputs": [
    {
     "name": "stdout",
     "output_type": "stream",
     "text": [
      "(702, 5)\n"
     ]
    }
   ],
   "source": [
    "print(X_train.shape)"
   ]
  },
  {
   "cell_type": "code",
   "execution_count": 707,
   "id": "090503e6-38e2-4369-9953-1f3cf42f04ed",
   "metadata": {},
   "outputs": [
    {
     "data": {
      "text/plain": [
       "(702, 5)"
      ]
     },
     "execution_count": 707,
     "metadata": {},
     "output_type": "execute_result"
    }
   ],
   "source": [
    "X_train.shape"
   ]
  },
  {
   "cell_type": "code",
   "execution_count": 709,
   "id": "ef65ff42-8092-49c9-95c0-0d94ecf3bc77",
   "metadata": {},
   "outputs": [
    {
     "name": "stdout",
     "output_type": "stream",
     "text": [
      "(702,)\n"
     ]
    }
   ],
   "source": [
    "print(y_train.shape)"
   ]
  },
  {
   "cell_type": "markdown",
   "id": "8ac2b02b-c240-424b-9ae7-60af537323a1",
   "metadata": {},
   "source": [
    "# Scaling the Data"
   ]
  },
  {
   "cell_type": "code",
   "execution_count": 711,
   "id": "fb4a938f-6557-4142-8c9c-74a031ef49ed",
   "metadata": {},
   "outputs": [],
   "source": [
    "from sklearn.preprocessing import StandardScaler\n",
    "scaler = StandardScaler()\n",
    "X_train = scaler.fit_transform(X_train)\n",
    "X_test = scaler.transform(X_test)"
   ]
  },
  {
   "cell_type": "markdown",
   "id": "7dba8039-7e6c-403f-999e-1b8fa55cc123",
   "metadata": {},
   "source": [
    "# Logistic Regression Model "
   ]
  },
  {
   "cell_type": "code",
   "execution_count": 717,
   "id": "8c2098a7-5118-490f-aa9b-c7d8c0600946",
   "metadata": {},
   "outputs": [
    {
     "name": "stdout",
     "output_type": "stream",
     "text": [
      "Confusion Matrix: [[98  3]\n",
      " [ 9 14]]\n",
      "accuracy_score: 0.9032258064516129\n"
     ]
    }
   ],
   "source": [
    "from sklearn.compose import ColumnTransformer\n",
    "from sklearn.linear_model import LogisticRegression\n",
    "from sklearn.preprocessing import OneHotEncoder\n",
    "from sklearn.pipeline import Pipeline\n",
    "from sklearn.metrics import accuracy_score, confusion_matrix\n",
    "\n",
    "\n",
    "# step_1 = ColumnTransformer(transformers=[('encoder', OneHotEncoder(sparse_output=False, drop='first'), [0,6])\n",
    "                                     # ], remainder='passthrough')\n",
    "step_2 = LogisticRegression(random_state= 0)\n",
    "\n",
    "\n",
    "pipe = Pipeline([ (\"Step 2\", step_2)\n",
    "                ])\n",
    "pipe.fit(X_train, y_train)\n",
    "y_pred = pipe.predict(X_test)\n",
    "\n",
    "print('Confusion Matrix:', confusion_matrix(y_test,y_pred))\n",
    "print('accuracy_score:', accuracy_score(y_test,y_pred))"
   ]
  },
  {
   "cell_type": "code",
   "execution_count": null,
   "id": "b5d5cbc1-a27e-47d5-becd-93a50a83e2be",
   "metadata": {},
   "outputs": [],
   "source": []
  }
 ],
 "metadata": {
  "kernelspec": {
   "display_name": "Python 3 (ipykernel)",
   "language": "python",
   "name": "python3"
  },
  "language_info": {
   "codemirror_mode": {
    "name": "ipython",
    "version": 3
   },
   "file_extension": ".py",
   "mimetype": "text/x-python",
   "name": "python",
   "nbconvert_exporter": "python",
   "pygments_lexer": "ipython3",
   "version": "3.12.7"
  }
 },
 "nbformat": 4,
 "nbformat_minor": 5
}
